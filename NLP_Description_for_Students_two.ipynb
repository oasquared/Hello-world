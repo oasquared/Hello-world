{
  "cells": [
    {
      "cell_type": "markdown",
      "metadata": {
        "id": "view-in-github",
        "colab_type": "text"
      },
      "source": [
        "<a href=\"https://colab.research.google.com/github/oasquared/Hello-world/blob/master/NLP_Description_for_Students_two.ipynb\" target=\"_parent\"><img src=\"https://colab.research.google.com/assets/colab-badge.svg\" alt=\"Open In Colab\"/></a>"
      ]
    },
    {
      "cell_type": "markdown",
      "metadata": {
        "id": "CxYSWPCsM0YU"
      },
      "source": [
        "# Natural Language Processing\n",
        "\n"
      ]
    },
    {
      "cell_type": "markdown",
      "metadata": {
        "id": "FGQCPUEuNezI"
      },
      "source": [
        "This project will give you practical experience using Natural Language Processing techniques. This project is in three parts:\n",
        "- in part 1) you will use a dataset in a CSV file\n",
        "- in part 2) you will use the Wikipedia API to directly access content\n",
        "on Wikipedia.\n",
        "- in part 3) you will make your notebook interactive\n"
      ]
    },
    {
      "cell_type": "markdown",
      "metadata": {
        "id": "IP5iaS9lNamW"
      },
      "source": [
        "### Part 1)\n",
        "\n"
      ]
    },
    {
      "cell_type": "markdown",
      "metadata": {
        "id": "twaXGmp6OAPK"
      },
      "source": [
        "- The CSV file is available at https://ddc-datascience.s3.amazonaws.com/Projects/Project.5-NLP/Data/NLP.csv\n",
        "- The file contains a list of famous people and a brief overview.\n",
        "- The goal of part 1) is to ...\n",
        "  1. Pick one person from the list ( the target person ) and output 10 other people who's overview are \"closest\" to the target person in a Natural Language Processing sense\n",
        "  1. Also output the sentiment of the overview of the target person\n",
        "\n"
      ]
    },
    {
      "cell_type": "code",
      "source": [
        "import numpy as np\n",
        "import pandas as pd\n",
        "\n",
        "from textblob import TextBlob\n",
        "from sklearn.feature_extraction.text import CountVectorizer\n",
        "from sklearn.feature_extraction.text import TfidfTransformer\n",
        "from sklearn.feature_extraction.text import TfidfVectorizer\n",
        "from sklearn.neighbors import NearestNeighbors\n",
        "\n",
        "pd.options.display.max_columns = 100\n",
        "\n",
        "import nltk\n",
        "# nltk.download('omw-1.4')\n",
        "nltk.download('punkt_tab')\n",
        "# nltk.download('averaged_perceptron_tagger_eng')"
      ],
      "metadata": {
        "id": "O7FfxV6U2VP1",
        "outputId": "fec2af59-8fcd-48e1-f37e-9c84fbb9455c",
        "colab": {
          "base_uri": "https://localhost:8080/"
        }
      },
      "execution_count": 1,
      "outputs": [
        {
          "output_type": "stream",
          "name": "stderr",
          "text": [
            "[nltk_data] Downloading package punkt_tab to /root/nltk_data...\n",
            "[nltk_data]   Unzipping tokenizers/punkt_tab.zip.\n"
          ]
        },
        {
          "output_type": "execute_result",
          "data": {
            "text/plain": [
              "True"
            ]
          },
          "metadata": {},
          "execution_count": 1
        }
      ]
    },
    {
      "cell_type": "code",
      "source": [
        "data='https://ddc-datascience.s3.amazonaws.com/Projects/Project.5-NLP/Data/NLP.csv'\n",
        "data=pd.read_csv(data)"
      ],
      "metadata": {
        "id": "_Mh2j45R2PAK"
      },
      "execution_count": 2,
      "outputs": []
    },
    {
      "cell_type": "code",
      "source": [
        "data.head()"
      ],
      "metadata": {
        "colab": {
          "base_uri": "https://localhost:8080/",
          "height": 206
        },
        "id": "aN4R463P33FA",
        "outputId": "9af3e116-86e2-45c3-a73a-514f3be4ef2c"
      },
      "execution_count": 3,
      "outputs": [
        {
          "output_type": "execute_result",
          "data": {
            "text/plain": [
              "                                                 URI                 name  \\\n",
              "0        <http://dbpedia.org/resource/Digby_Morrell>        Digby Morrell   \n",
              "1       <http://dbpedia.org/resource/Alfred_J._Lewy>       Alfred J. Lewy   \n",
              "2        <http://dbpedia.org/resource/Harpdog_Brown>        Harpdog Brown   \n",
              "3  <http://dbpedia.org/resource/Franz_Rottensteiner>  Franz Rottensteiner   \n",
              "4               <http://dbpedia.org/resource/G-Enka>               G-Enka   \n",
              "\n",
              "                                                text  \n",
              "0  digby morrell born 10 october 1979 is a former...  \n",
              "1  alfred j lewy aka sandy lewy graduated from un...  \n",
              "2  harpdog brown is a singer and harmonica player...  \n",
              "3  franz rottensteiner born in waidmannsfeld lowe...  \n",
              "4  henry krvits born 30 december 1974 in tallinn ...  "
            ],
            "text/html": [
              "\n",
              "  <div id=\"df-3108ac7f-3d22-4e2f-9d90-404735e8cc54\" class=\"colab-df-container\">\n",
              "    <div>\n",
              "<style scoped>\n",
              "    .dataframe tbody tr th:only-of-type {\n",
              "        vertical-align: middle;\n",
              "    }\n",
              "\n",
              "    .dataframe tbody tr th {\n",
              "        vertical-align: top;\n",
              "    }\n",
              "\n",
              "    .dataframe thead th {\n",
              "        text-align: right;\n",
              "    }\n",
              "</style>\n",
              "<table border=\"1\" class=\"dataframe\">\n",
              "  <thead>\n",
              "    <tr style=\"text-align: right;\">\n",
              "      <th></th>\n",
              "      <th>URI</th>\n",
              "      <th>name</th>\n",
              "      <th>text</th>\n",
              "    </tr>\n",
              "  </thead>\n",
              "  <tbody>\n",
              "    <tr>\n",
              "      <th>0</th>\n",
              "      <td>&lt;http://dbpedia.org/resource/Digby_Morrell&gt;</td>\n",
              "      <td>Digby Morrell</td>\n",
              "      <td>digby morrell born 10 october 1979 is a former...</td>\n",
              "    </tr>\n",
              "    <tr>\n",
              "      <th>1</th>\n",
              "      <td>&lt;http://dbpedia.org/resource/Alfred_J._Lewy&gt;</td>\n",
              "      <td>Alfred J. Lewy</td>\n",
              "      <td>alfred j lewy aka sandy lewy graduated from un...</td>\n",
              "    </tr>\n",
              "    <tr>\n",
              "      <th>2</th>\n",
              "      <td>&lt;http://dbpedia.org/resource/Harpdog_Brown&gt;</td>\n",
              "      <td>Harpdog Brown</td>\n",
              "      <td>harpdog brown is a singer and harmonica player...</td>\n",
              "    </tr>\n",
              "    <tr>\n",
              "      <th>3</th>\n",
              "      <td>&lt;http://dbpedia.org/resource/Franz_Rottensteiner&gt;</td>\n",
              "      <td>Franz Rottensteiner</td>\n",
              "      <td>franz rottensteiner born in waidmannsfeld lowe...</td>\n",
              "    </tr>\n",
              "    <tr>\n",
              "      <th>4</th>\n",
              "      <td>&lt;http://dbpedia.org/resource/G-Enka&gt;</td>\n",
              "      <td>G-Enka</td>\n",
              "      <td>henry krvits born 30 december 1974 in tallinn ...</td>\n",
              "    </tr>\n",
              "  </tbody>\n",
              "</table>\n",
              "</div>\n",
              "    <div class=\"colab-df-buttons\">\n",
              "\n",
              "  <div class=\"colab-df-container\">\n",
              "    <button class=\"colab-df-convert\" onclick=\"convertToInteractive('df-3108ac7f-3d22-4e2f-9d90-404735e8cc54')\"\n",
              "            title=\"Convert this dataframe to an interactive table.\"\n",
              "            style=\"display:none;\">\n",
              "\n",
              "  <svg xmlns=\"http://www.w3.org/2000/svg\" height=\"24px\" viewBox=\"0 -960 960 960\">\n",
              "    <path d=\"M120-120v-720h720v720H120Zm60-500h600v-160H180v160Zm220 220h160v-160H400v160Zm0 220h160v-160H400v160ZM180-400h160v-160H180v160Zm440 0h160v-160H620v160ZM180-180h160v-160H180v160Zm440 0h160v-160H620v160Z\"/>\n",
              "  </svg>\n",
              "    </button>\n",
              "\n",
              "  <style>\n",
              "    .colab-df-container {\n",
              "      display:flex;\n",
              "      gap: 12px;\n",
              "    }\n",
              "\n",
              "    .colab-df-convert {\n",
              "      background-color: #E8F0FE;\n",
              "      border: none;\n",
              "      border-radius: 50%;\n",
              "      cursor: pointer;\n",
              "      display: none;\n",
              "      fill: #1967D2;\n",
              "      height: 32px;\n",
              "      padding: 0 0 0 0;\n",
              "      width: 32px;\n",
              "    }\n",
              "\n",
              "    .colab-df-convert:hover {\n",
              "      background-color: #E2EBFA;\n",
              "      box-shadow: 0px 1px 2px rgba(60, 64, 67, 0.3), 0px 1px 3px 1px rgba(60, 64, 67, 0.15);\n",
              "      fill: #174EA6;\n",
              "    }\n",
              "\n",
              "    .colab-df-buttons div {\n",
              "      margin-bottom: 4px;\n",
              "    }\n",
              "\n",
              "    [theme=dark] .colab-df-convert {\n",
              "      background-color: #3B4455;\n",
              "      fill: #D2E3FC;\n",
              "    }\n",
              "\n",
              "    [theme=dark] .colab-df-convert:hover {\n",
              "      background-color: #434B5C;\n",
              "      box-shadow: 0px 1px 3px 1px rgba(0, 0, 0, 0.15);\n",
              "      filter: drop-shadow(0px 1px 2px rgba(0, 0, 0, 0.3));\n",
              "      fill: #FFFFFF;\n",
              "    }\n",
              "  </style>\n",
              "\n",
              "    <script>\n",
              "      const buttonEl =\n",
              "        document.querySelector('#df-3108ac7f-3d22-4e2f-9d90-404735e8cc54 button.colab-df-convert');\n",
              "      buttonEl.style.display =\n",
              "        google.colab.kernel.accessAllowed ? 'block' : 'none';\n",
              "\n",
              "      async function convertToInteractive(key) {\n",
              "        const element = document.querySelector('#df-3108ac7f-3d22-4e2f-9d90-404735e8cc54');\n",
              "        const dataTable =\n",
              "          await google.colab.kernel.invokeFunction('convertToInteractive',\n",
              "                                                    [key], {});\n",
              "        if (!dataTable) return;\n",
              "\n",
              "        const docLinkHtml = 'Like what you see? Visit the ' +\n",
              "          '<a target=\"_blank\" href=https://colab.research.google.com/notebooks/data_table.ipynb>data table notebook</a>'\n",
              "          + ' to learn more about interactive tables.';\n",
              "        element.innerHTML = '';\n",
              "        dataTable['output_type'] = 'display_data';\n",
              "        await google.colab.output.renderOutput(dataTable, element);\n",
              "        const docLink = document.createElement('div');\n",
              "        docLink.innerHTML = docLinkHtml;\n",
              "        element.appendChild(docLink);\n",
              "      }\n",
              "    </script>\n",
              "  </div>\n",
              "\n",
              "\n",
              "    <div id=\"df-8a23c996-d93d-40ed-8490-2a4ac380f020\">\n",
              "      <button class=\"colab-df-quickchart\" onclick=\"quickchart('df-8a23c996-d93d-40ed-8490-2a4ac380f020')\"\n",
              "                title=\"Suggest charts\"\n",
              "                style=\"display:none;\">\n",
              "\n",
              "<svg xmlns=\"http://www.w3.org/2000/svg\" height=\"24px\"viewBox=\"0 0 24 24\"\n",
              "     width=\"24px\">\n",
              "    <g>\n",
              "        <path d=\"M19 3H5c-1.1 0-2 .9-2 2v14c0 1.1.9 2 2 2h14c1.1 0 2-.9 2-2V5c0-1.1-.9-2-2-2zM9 17H7v-7h2v7zm4 0h-2V7h2v10zm4 0h-2v-4h2v4z\"/>\n",
              "    </g>\n",
              "</svg>\n",
              "      </button>\n",
              "\n",
              "<style>\n",
              "  .colab-df-quickchart {\n",
              "      --bg-color: #E8F0FE;\n",
              "      --fill-color: #1967D2;\n",
              "      --hover-bg-color: #E2EBFA;\n",
              "      --hover-fill-color: #174EA6;\n",
              "      --disabled-fill-color: #AAA;\n",
              "      --disabled-bg-color: #DDD;\n",
              "  }\n",
              "\n",
              "  [theme=dark] .colab-df-quickchart {\n",
              "      --bg-color: #3B4455;\n",
              "      --fill-color: #D2E3FC;\n",
              "      --hover-bg-color: #434B5C;\n",
              "      --hover-fill-color: #FFFFFF;\n",
              "      --disabled-bg-color: #3B4455;\n",
              "      --disabled-fill-color: #666;\n",
              "  }\n",
              "\n",
              "  .colab-df-quickchart {\n",
              "    background-color: var(--bg-color);\n",
              "    border: none;\n",
              "    border-radius: 50%;\n",
              "    cursor: pointer;\n",
              "    display: none;\n",
              "    fill: var(--fill-color);\n",
              "    height: 32px;\n",
              "    padding: 0;\n",
              "    width: 32px;\n",
              "  }\n",
              "\n",
              "  .colab-df-quickchart:hover {\n",
              "    background-color: var(--hover-bg-color);\n",
              "    box-shadow: 0 1px 2px rgba(60, 64, 67, 0.3), 0 1px 3px 1px rgba(60, 64, 67, 0.15);\n",
              "    fill: var(--button-hover-fill-color);\n",
              "  }\n",
              "\n",
              "  .colab-df-quickchart-complete:disabled,\n",
              "  .colab-df-quickchart-complete:disabled:hover {\n",
              "    background-color: var(--disabled-bg-color);\n",
              "    fill: var(--disabled-fill-color);\n",
              "    box-shadow: none;\n",
              "  }\n",
              "\n",
              "  .colab-df-spinner {\n",
              "    border: 2px solid var(--fill-color);\n",
              "    border-color: transparent;\n",
              "    border-bottom-color: var(--fill-color);\n",
              "    animation:\n",
              "      spin 1s steps(1) infinite;\n",
              "  }\n",
              "\n",
              "  @keyframes spin {\n",
              "    0% {\n",
              "      border-color: transparent;\n",
              "      border-bottom-color: var(--fill-color);\n",
              "      border-left-color: var(--fill-color);\n",
              "    }\n",
              "    20% {\n",
              "      border-color: transparent;\n",
              "      border-left-color: var(--fill-color);\n",
              "      border-top-color: var(--fill-color);\n",
              "    }\n",
              "    30% {\n",
              "      border-color: transparent;\n",
              "      border-left-color: var(--fill-color);\n",
              "      border-top-color: var(--fill-color);\n",
              "      border-right-color: var(--fill-color);\n",
              "    }\n",
              "    40% {\n",
              "      border-color: transparent;\n",
              "      border-right-color: var(--fill-color);\n",
              "      border-top-color: var(--fill-color);\n",
              "    }\n",
              "    60% {\n",
              "      border-color: transparent;\n",
              "      border-right-color: var(--fill-color);\n",
              "    }\n",
              "    80% {\n",
              "      border-color: transparent;\n",
              "      border-right-color: var(--fill-color);\n",
              "      border-bottom-color: var(--fill-color);\n",
              "    }\n",
              "    90% {\n",
              "      border-color: transparent;\n",
              "      border-bottom-color: var(--fill-color);\n",
              "    }\n",
              "  }\n",
              "</style>\n",
              "\n",
              "      <script>\n",
              "        async function quickchart(key) {\n",
              "          const quickchartButtonEl =\n",
              "            document.querySelector('#' + key + ' button');\n",
              "          quickchartButtonEl.disabled = true;  // To prevent multiple clicks.\n",
              "          quickchartButtonEl.classList.add('colab-df-spinner');\n",
              "          try {\n",
              "            const charts = await google.colab.kernel.invokeFunction(\n",
              "                'suggestCharts', [key], {});\n",
              "          } catch (error) {\n",
              "            console.error('Error during call to suggestCharts:', error);\n",
              "          }\n",
              "          quickchartButtonEl.classList.remove('colab-df-spinner');\n",
              "          quickchartButtonEl.classList.add('colab-df-quickchart-complete');\n",
              "        }\n",
              "        (() => {\n",
              "          let quickchartButtonEl =\n",
              "            document.querySelector('#df-8a23c996-d93d-40ed-8490-2a4ac380f020 button');\n",
              "          quickchartButtonEl.style.display =\n",
              "            google.colab.kernel.accessAllowed ? 'block' : 'none';\n",
              "        })();\n",
              "      </script>\n",
              "    </div>\n",
              "\n",
              "    </div>\n",
              "  </div>\n"
            ],
            "application/vnd.google.colaboratory.intrinsic+json": {
              "type": "dataframe",
              "variable_name": "data",
              "summary": "{\n  \"name\": \"data\",\n  \"rows\": 42786,\n  \"fields\": [\n    {\n      \"column\": \"URI\",\n      \"properties\": {\n        \"dtype\": \"string\",\n        \"num_unique_values\": 42786,\n        \"samples\": [\n          \"<http://dbpedia.org/resource/Tom_Bancroft>\",\n          \"<http://dbpedia.org/resource/Bart_Zeller>\",\n          \"<http://dbpedia.org/resource/Caitlin_Morrall>\"\n        ],\n        \"semantic_type\": \"\",\n        \"description\": \"\"\n      }\n    },\n    {\n      \"column\": \"name\",\n      \"properties\": {\n        \"dtype\": \"string\",\n        \"num_unique_values\": 42785,\n        \"samples\": [\n          \"Tom Bancroft\",\n          \"James Holt (scholar)\",\n          \"Chen Tze-chung\"\n        ],\n        \"semantic_type\": \"\",\n        \"description\": \"\"\n      }\n    },\n    {\n      \"column\": \"text\",\n      \"properties\": {\n        \"dtype\": \"string\",\n        \"num_unique_values\": 42786,\n        \"samples\": [\n          \"tom bancroft born 1967 london is a british jazz drummer and composer he began drumming aged seven and started off playing jazz with his father and identical twin brother phil after studying medicine at cambridge university he spent a year studying composition and arranging at mcgill university in montreal canada qualifying as a doctor in 1992 he then worked as a jazz musician and composer supporting his music income with locum work as a hospital doctor until 1998 when he began starting music related companies he is married to singer gina rae and has two children sam and sophie in 2004 he received the creative scotland awardin 1998 he launched caber music with support from the national lottery fund which went on to release over thirty cds over the next seven years to critical acclaim including two bbc jazz awards for best cd and numerous album of the year placings he has subsequently started the company abc creative music with his twin brother phil bancroft which develops creative music education resources which are now being used in more than 500 schools in scotlandas a drummer he has studied with jo morello joey baron and andrew cyrille and played with many musicians including sun ra joakim milder charlie mariano hamiett bluiett liane carroll oliver lake george colligan david berkman tommy smith julian argelles emil vicklicky martin taylor sheila jordan shooglenifty karen mathieson reid anderson billy jenkins bill wells geri allen mr mcfalls chamber and martyn bennetthe is currently the drummer with the dave milligan trio the chick lyall trio and kevin mackenzies vital signs the laura macdonald quartet and octet and plays in an improvising duo with the italian guitarist enzo roccohe is drummer and coleader of trio aab whose first album cold fusion was named an album of 1999 by bbc radio 3 and whose second album wherever i lay my home thats my hat was an album of 2001 in the guardian and picked in a list of 100 essential all time jazz albums by mojo magazine in 2001 they also released stranger things happen at c in 2002 reactivated in 2011 trio aab performed at the delhi jazz festivalas a band leader and composer he has led orchestro interrupto formerly the tom bancroft orchestra a contemporary jazz big band producing the album pieology in 1998 many festival performances a uk tour and a live concert broadcast on bbc radio 3 in 2004 the band toured the uk with geri allen and the tour was broadcast on bbc radio 3 and received five star reviews in the guardian and the scotsman and was voted jazz gig of the year in manchesters city limits and londons time out magazines orchestri interrupto released a cd in 2009 of the music from the geri allen tour with chick lyall on piano entitled the ballad of linda crawford bancroft has also composed for smaller groups including the orange ear ensemble octet and kilt couture a collaboration with french group arfi in 2006 he launched the new tom bancroft 6 pack as well as a spinoff childrens focussed band from the orchestra called kidsamonium which premiered at the gateshead international jazz festival at the sage gateshead and also at the cheltenham jazz festival in 2006 and went on to perform all over europebancrofts compositions have been used in radio film dance television and theatre he has been commissioned by bbc scotland bbc radio 3 glasgow international jazz festival assembly direct birmingham jazz and the national youth jazz orchestra of scotland he has danced in played and composed music for life on the planets surface with kelsey michael and a case for a picnic pt2 tracing houdini and hoops hats acrobats with the choreographer ruby worthhe has led many large scale community and education projects including 150 primary school children performing at the london jazz festival 200 at perth concert hall with classical percussionist colin currie and 100 parents grandparents and children playing drums and percussion at the big stix project at the gateshead jazz festivalbancroft is an active teacher and educator from private drum students to teaching composition and leading big bands he is an apple distinguished educator he has always been active in setting up new ways to promote jazz and improvisation he curated a series of mini festivals for uk and european musicians inside the glasgow jazz festival in the 1990s called clandemonium and europhonium he was active in setting up the scottish jazz federationin 2010 he was musical director of major dance show off kilter which played in major venues across scotland toured scotland with the dave milligan trio and premiered the band of eden malefemale big band to critical acclaimin late 2010 in his role at abc creative music bancroft launched the website abc creative music online to allow scottish schools to teach creative music by smartboard\",\n          \"barton wallace zeller born july 22 1941 is a former professional baseball catcher he played one game in major league baseball in 1970 for the st louis cardinals he recently served as manager of the joliet slammers of the frontier league but was released on september 10 2012zeller was signed by the cardinals in 1963 and spent four years in the cardinals farm system after missing the 1967 season he spent 1968 and 1969 with the lewiston broncs and arkansas travelers respectively zeller played in his only major league game on may 21 1970 against the philadelphia phillies he was inserted to catch the bottom of the ninth inning zeller never had a plate appearance but was credited with one put out on billy mccools strikeout of jim hutto zeller batted and threw righthanded his jersey number was 29 at the time of play he was 6 ft 1 in tall and weighed 185 lbzeller was released as an active player by the cardinals on june 8 but stayed on as a coach for the balance of the 1970 season he played in the minors in 1971 in the milwaukee brewers and new york yankees organizationszeller was the hitting coachthird base coach for the southern illinois miners of the frontier league an independent baseball league zeller began working for the miners in their inaugural 2007 season before coming to the miners zeller spent two seasons with the sioux falls canaries as a bench coach zeller was named as the first manager of slammers in january 2011zeller is currently managing the washington wild things of the frontier league\",\n          \"caitlin shea morrall machol born may 2 1983 is a beauty queen from burlington wisconsin who competed in the 2008 miss usa pageantmorrall who had previously competed in the miss wisconsin america system won the miss wisconsin usa 2007 title in the state pageant held at richland center on 2 september 2006 she competed in the nationally televised miss usa 2007 pageant which was broadcast live from the kodak theatre in hollywood california on march 23 2007 where she placed in top 15 this was the best finish by a contestant from wisconsin in 28 yearsin june 2006 morrall placed first runnerup in the miss wisconsin competition where she competed as miss burlington area chocolatefest she had previously placed 3rd runnerup in 2004 1st runnerup in 2003 and 2nd runnerup in 2002 morrall has held other local titles such as miss racine in 2002 miss milwaukee in 2003 and miss southern wisconsin in 2004 despite being eligible to compete in the miss america system for one more year morrall made the decision to compete in the miss wisconsin usa pageant one week before applications for the pageant closedmorrall is a 2001 graduate of burlington high school wisconsin and is a 2008 graduate of alverno college in milwaukee with a bachelor of arts degree in professional communicationcaitlin is currently the traffic reporter in the morning for wtmjtv 4\"\n        ],\n        \"semantic_type\": \"\",\n        \"description\": \"\"\n      }\n    }\n  ]\n}"
            }
          },
          "metadata": {},
          "execution_count": 3
        }
      ]
    },
    {
      "cell_type": "code",
      "source": [
        "data.info()"
      ],
      "metadata": {
        "colab": {
          "base_uri": "https://localhost:8080/"
        },
        "id": "wMILdTgj4CwZ",
        "outputId": "8bbab7d0-f03c-436e-ec07-a56697b01201"
      },
      "execution_count": 4,
      "outputs": [
        {
          "output_type": "stream",
          "name": "stdout",
          "text": [
            "<class 'pandas.core.frame.DataFrame'>\n",
            "RangeIndex: 42786 entries, 0 to 42785\n",
            "Data columns (total 3 columns):\n",
            " #   Column  Non-Null Count  Dtype \n",
            "---  ------  --------------  ----- \n",
            " 0   URI     42786 non-null  object\n",
            " 1   name    42786 non-null  object\n",
            " 2   text    42786 non-null  object\n",
            "dtypes: object(3)\n",
            "memory usage: 1002.9+ KB\n"
          ]
        }
      ]
    },
    {
      "cell_type": "code",
      "source": [
        "import pandas as pd\n",
        "from sklearn.feature_extraction.text import TfidfVectorizer\n",
        "from sklearn.neighbors import NearestNeighbors\n",
        "import nltk\n",
        "from nltk.sentiment import SentimentIntensityAnalyzer\n",
        "\n",
        "# Download VADER if not already done\n",
        "nltk.download('vader_lexicon')\n",
        "\n",
        "# Load dataset\n",
        "url = \"https://ddc-datascience.s3.amazonaws.com/Projects/Project.5-NLP/Data/NLP.csv\"\n",
        "df = pd.read_csv(url)\n",
        "\n",
        "# Ensure 'name' and 'text' columns exist\n",
        "assert 'name' in df.columns and 'text' in df.columns\n",
        "\n",
        "# Target person\n",
        "target_name = \"Digby Morrell\"\n",
        "if target_name not in df['name'].values:\n",
        "    raise ValueError(f\"{target_name} not found in the dataset.\")\n",
        "\n",
        "# Get index of target\n",
        "target_index = df[df['name'] == target_name].index[0]\n",
        "\n",
        "# TF-IDF vectorization\n",
        "vectorizer = TfidfVectorizer(stop_words='english')\n",
        "tfidf_matrix = vectorizer.fit_transform(df['text'])\n",
        "\n",
        "# K-Nearest Neighbors\n",
        "knn = NearestNeighbors(n_neighbors=11, metric='cosine')  # 11 to include target itself\n",
        "knn.fit(tfidf_matrix)\n",
        "distances, indices = knn.kneighbors(tfidf_matrix[target_index])\n",
        "\n",
        "# Get top 10 nearest neighbors (excluding the target)\n",
        "neighbor_indices = indices[0][1:]  # skip the first, which is the target itself\n",
        "similar_people = df.iloc[neighbor_indices][['name', 'text']]\n",
        "\n",
        "print(\"\\nTop 10 people most similar to Digby Morrell:\")\n",
        "for i, row in similar_people.iterrows():\n",
        "    print(f\"- {row['name']}\")\n",
        "\n",
        "# Sentiment analysis\n",
        "sia = SentimentIntensityAnalyzer()\n",
        "target_text = df.loc[target_index, 'text']\n",
        "sentiment_score = sia.polarity_scores(target_text)['compound']\n",
        "\n",
        "if sentiment_score >= 0.05:\n",
        "    sentiment = \"Positive\"\n",
        "elif sentiment_score <= -0.05:\n",
        "    sentiment = \"Negative\"\n",
        "else:\n",
        "    sentiment = \"Neutral\"\n",
        "\n",
        "print(f\"\\nSentiment of Digby Morrell's text: {sentiment} (compound = {sentiment_score})\")\n"
      ],
      "metadata": {
        "colab": {
          "base_uri": "https://localhost:8080/"
        },
        "id": "HZConlHj9aI8",
        "outputId": "fcd2042f-f6a3-46c4-fefe-3f4a44ea4f26"
      },
      "execution_count": 5,
      "outputs": [
        {
          "output_type": "stream",
          "name": "stderr",
          "text": [
            "[nltk_data] Downloading package vader_lexicon to /root/nltk_data...\n"
          ]
        },
        {
          "output_type": "stream",
          "name": "stdout",
          "text": [
            "\n",
            "Top 10 people most similar to Digby Morrell:\n",
            "- Steven Browne\n",
            "- Peter Freeman (footballer)\n",
            "- Lindsay Smith (Australian footballer)\n",
            "- Earl Spalding\n",
            "- Relton Roberts\n",
            "- Mark Austin (footballer)\n",
            "- Todd Curley\n",
            "- Daniel Harris (footballer)\n",
            "- Richard Ambrose\n",
            "- Darren Pfeiffer\n",
            "\n",
            "Sentiment of Digby Morrell's text: Positive (compound = 0.8225)\n"
          ]
        }
      ]
    },
    {
      "cell_type": "code",
      "source": [
        "import pandas as pd\n",
        "from sklearn.feature_extraction.text import TfidfVectorizer\n",
        "from sklearn.neighbors import NearestNeighbors\n",
        "import nltk\n",
        "from nltk.sentiment import SentimentIntensityAnalyzer\n",
        "\n",
        "# Download VADER if not already done\n",
        "nltk.download('vader_lexicon')\n",
        "\n",
        "# Load dataset\n",
        "url = \"https://ddc-datascience.s3.amazonaws.com/Projects/Project.5-NLP/Data/NLP.csv\"\n",
        "df = pd.read_csv(url)\n",
        "\n",
        "# Set correct column names\n",
        "name_col = 'name'     # column containing names\n",
        "text_col = 'text'     # column containing overviews\n",
        "\n",
        "# Validate column names\n",
        "assert name_col in df.columns and text_col in df.columns\n",
        "\n",
        "# Select target person\n",
        "target_name = \"Digby Morrell\"\n",
        "target_index = df[df[name_col] == target_name].index[0]\n",
        "\n",
        "# TF-IDF vectorization\n",
        "vectorizer = TfidfVectorizer(stop_words='english')\n",
        "tfidf_matrix = vectorizer.fit_transform(df[text_col])\n",
        "\n",
        "# Fit KNN model\n",
        "knn = NearestNeighbors(n_neighbors=11, metric='cosine')  # 11 to include self\n",
        "knn.fit(tfidf_matrix)\n",
        "distances, indices = knn.kneighbors(tfidf_matrix[target_index])\n",
        "\n",
        "# Process top 10 (excluding self)\n",
        "neighbor_indices = indices[0][1:]\n",
        "neighbor_distances = distances[0][1:]\n",
        "similarities = 1 - neighbor_distances  # cosine similarity\n",
        "\n",
        "# Output top 10 similar people with similarity scores\n",
        "print(f\"\\nTop 10 people most similar to {target_name}:\\n\")\n",
        "for rank, (idx, sim) in enumerate(zip(neighbor_indices, similarities), 1):\n",
        "    print(f\"{rank}. {df.iloc[idx][name_col]} — Similarity: {sim:.4f}\")\n",
        "\n",
        "# Sentiment analysis of target person's text\n",
        "sia = SentimentIntensityAnalyzer()\n",
        "target_text = df.iloc[target_index][text_col]\n",
        "compound_score = sia.polarity_scores(target_text)['compound']\n",
        "\n",
        "# Interpret sentiment\n",
        "if compound_score >= 0.05:\n",
        "    sentiment = \"Positive\"\n",
        "elif compound_score <= -0.05:\n",
        "    sentiment = \"Negative\"\n",
        "else:\n",
        "    sentiment = \"Neutral\"\n",
        "\n",
        "print(f\"\\nSentiment of {target_name}'s overview: {sentiment} (compound = {compound_score:.4f})\")\n"
      ],
      "metadata": {
        "colab": {
          "base_uri": "https://localhost:8080/"
        },
        "id": "CxlYoGmp_LX0",
        "outputId": "7b6ade2d-36d8-4c5e-c615-e8e23754b42a"
      },
      "execution_count": 6,
      "outputs": [
        {
          "output_type": "stream",
          "name": "stderr",
          "text": [
            "[nltk_data] Downloading package vader_lexicon to /root/nltk_data...\n",
            "[nltk_data]   Package vader_lexicon is already up-to-date!\n"
          ]
        },
        {
          "output_type": "stream",
          "name": "stdout",
          "text": [
            "\n",
            "Top 10 people most similar to Digby Morrell:\n",
            "\n",
            "1. Steven Browne — Similarity: 0.4212\n",
            "2. Peter Freeman (footballer) — Similarity: 0.3628\n",
            "3. Lindsay Smith (Australian footballer) — Similarity: 0.3499\n",
            "4. Earl Spalding — Similarity: 0.3417\n",
            "5. Relton Roberts — Similarity: 0.3390\n",
            "6. Mark Austin (footballer) — Similarity: 0.3272\n",
            "7. Todd Curley — Similarity: 0.3243\n",
            "8. Daniel Harris (footballer) — Similarity: 0.3223\n",
            "9. Richard Ambrose — Similarity: 0.3214\n",
            "10. Darren Pfeiffer — Similarity: 0.3207\n",
            "\n",
            "Sentiment of Digby Morrell's overview: Positive (compound = 0.8225)\n"
          ]
        }
      ]
    },
    {
      "cell_type": "markdown",
      "metadata": {
        "id": "SyoC6PWeN9un"
      },
      "source": [
        "### Part 2)\n",
        "\n"
      ]
    },
    {
      "cell_type": "markdown",
      "metadata": {
        "id": "AJxfrb48N-v9"
      },
      "source": [
        "- For the same target person that you chose in Part 1), use the Wikipedia API to access the whole content of the target person's Wikipedia page.\n",
        "- The goal of Part 2) is to ...\n",
        "  1. Print out the text of the Wikipedia article for the target person\n",
        "  1. Determine the sentiment of the text of the Wikipedia page for the target person\n",
        "  1. Collect the text of the Wikipedia pages from the 10 nearest neighbors from Part 1)\n",
        "  1. Determine the nearness ranking of these 10 people to your target person based on their entire Wikipedia page\n",
        "  1. Compare, i.e. plot,  the nearest ranking from Step 1) with the Wikipedia page nearness ranking.  A difference of the rank is one means of comparison.\n",
        "\n"
      ]
    },
    {
      "cell_type": "markdown",
      "source": [
        " ## Using Wikipedia API"
      ],
      "metadata": {
        "id": "hWqN3xL5BSq4"
      }
    },
    {
      "cell_type": "code",
      "source": [
        "%%capture\n",
        "!pip3 install wikipedia-api\n",
        "!pip install wikipedia"
      ],
      "metadata": {
        "id": "ku97_6zWBRNM"
      },
      "execution_count": 7,
      "outputs": []
    },
    {
      "cell_type": "code",
      "source": [
        "import wikipediaapi"
      ],
      "metadata": {
        "id": "uUDL202lDA5g"
      },
      "execution_count": 8,
      "outputs": []
    },
    {
      "cell_type": "code",
      "source": [
        "topic = \"Digby Morrell\"\n",
        "wikip = wikipediaapi.Wikipedia('foobar')\n",
        "page_ex = wikip.page(topic)\n",
        "wiki_text = page_ex.text\n",
        "wiki_text\n"
      ],
      "metadata": {
        "colab": {
          "base_uri": "https://localhost:8080/",
          "height": 123
        },
        "id": "-AISku_EDCx8",
        "outputId": "c10d7547-8f1f-4472-906d-9923ab1fdfd3"
      },
      "execution_count": 9,
      "outputs": [
        {
          "output_type": "execute_result",
          "data": {
            "text/plain": [
              "\"Digby Morrell (born 10 October 1979) is a former Australian rules footballer who played with the Kangaroos and Carlton in the Australian Football League (AFL).\\nFrom Western Australia, Morrell played his early senior football for West Perth. His 44-game senior career for the Falcons spanned 1998–2000, and he was the club's leading goalkicker in 2000. At the age of 21, Morrell was recruited to the Australian Football League by the North Melbourne Football Club with its third round selection in the 2001 AFL Rookie Draft. As a forward he twice kicked five goals during his time with the Kangaroos. The first was in a losing cause against Sydney in 2002 and the other the following season in a drawn game against Brisbane.\\nAfter the 2003 season, Morrell was traded, along with David Teague, to the Carlton Football Club in exchange for Corey McKernan. He played 32 games for the Blues before being delisted at the end of 2005. He continued to play Victorian Football League (VFL) football with the Northern Bullants, Carlton's VFL-affiliate in 2006, and acted as playing assistant coach in 2007. In 2008, he shifted to the Box Hill Hawks, before retiring from playing at the end of the season. From 2009 until 2013, Morrell was the senior coach of the Strathmore Football Club in the Essendon District Football League, leading the club to the 2011 Premier Division premiership.from 2014 - 2018 he was the senior coach of the West Coburg Football Club, also in the EDFL.\\nIn September 2018 he was appointed new coach of the Pascoe Vale Football Club. In September 2023 Pascoe Vale announced that Morrell would no longer coach the Club and had been replaced by Leigh Tudor.\\nHe currently teaches physical education at the Parade College Bundoora campus in Melbourne.\\n\\nReferences\\nExternal links\\n\\nDigby Morrell's playing statistics from AFL Tables \\nDigby Morrell at AustralianFootball.com \\nDigby Morrell's WAFL playing statistics at WAFLFootyFacts.net\""
            ],
            "application/vnd.google.colaboratory.intrinsic+json": {
              "type": "string"
            }
          },
          "metadata": {},
          "execution_count": 9
        }
      ]
    },
    {
      "cell_type": "code",
      "source": [
        "wiki_text_clean = (\n",
        "  wiki_text\n",
        "  .lower()\n",
        "  .replace(\"\\n\",\" \")\n",
        "  .replace(\"\\'s\",'')\n",
        "  .replace('\\'','')\n",
        "  .replace(\"(\", \"\")\n",
        "  .replace(\")\", \"\")\n",
        "  .replace('\"', \"\")\n",
        ")\n",
        "wiki_text_clean"
      ],
      "metadata": {
        "colab": {
          "base_uri": "https://localhost:8080/",
          "height": 123
        },
        "id": "dMy3uu6wFgih",
        "outputId": "dc78d6c3-0eeb-438f-d5e8-a8806a086406"
      },
      "execution_count": 10,
      "outputs": [
        {
          "output_type": "execute_result",
          "data": {
            "text/plain": [
              "'digby morrell born 10 october 1979 is a former australian rules footballer who played with the kangaroos and carlton in the australian football league afl. from western australia, morrell played his early senior football for west perth. his 44-game senior career for the falcons spanned 1998–2000, and he was the club leading goalkicker in 2000. at the age of 21, morrell was recruited to the australian football league by the north melbourne football club with its third round selection in the 2001 afl rookie draft. as a forward he twice kicked five goals during his time with the kangaroos. the first was in a losing cause against sydney in 2002 and the other the following season in a drawn game against brisbane. after the 2003 season, morrell was traded, along with david teague, to the carlton football club in exchange for corey mckernan. he played 32 games for the blues before being delisted at the end of 2005. he continued to play victorian football league vfl football with the northern bullants, carlton vfl-affiliate in 2006, and acted as playing assistant coach in 2007. in 2008, he shifted to the box hill hawks, before retiring from playing at the end of the season. from 2009 until 2013, morrell was the senior coach of the strathmore football club in the essendon district football league, leading the club to the 2011 premier division premiership.from 2014 - 2018 he was the senior coach of the west coburg football club, also in the edfl. in september 2018 he was appointed new coach of the pascoe vale football club. in september 2023 pascoe vale announced that morrell would no longer coach the club and had been replaced by leigh tudor. he currently teaches physical education at the parade college bundoora campus in melbourne.  references external links  digby morrell playing statistics from afl tables  digby morrell at australianfootball.com  digby morrell wafl playing statistics at waflfootyfacts.net'"
            ],
            "application/vnd.google.colaboratory.intrinsic+json": {
              "type": "string"
            }
          },
          "metadata": {},
          "execution_count": 10
        }
      ]
    },
    {
      "cell_type": "code",
      "source": [
        "wiki_blob = TextBlob(wiki_text_clean)\n",
        "wiki_blob"
      ],
      "metadata": {
        "colab": {
          "base_uri": "https://localhost:8080/"
        },
        "id": "WWaYLH6BFpxB",
        "outputId": "c359737b-2b8b-4fcf-9f40-27b36acc43ed"
      },
      "execution_count": 11,
      "outputs": [
        {
          "output_type": "execute_result",
          "data": {
            "text/plain": [
              "TextBlob(\"digby morrell born 10 october 1979 is a former australian rules footballer who played with the kangaroos and carlton in the australian football league afl. from western australia, morrell played his early senior football for west perth. his 44-game senior career for the falcons spanned 1998–2000, and he was the club leading goalkicker in 2000. at the age of 21, morrell was recruited to the australian football league by the north melbourne football club with its third round selection in the 2001 afl rookie draft. as a forward he twice kicked five goals during his time with the kangaroos. the first was in a losing cause against sydney in 2002 and the other the following season in a drawn game against brisbane. after the 2003 season, morrell was traded, along with david teague, to the carlton football club in exchange for corey mckernan. he played 32 games for the blues before being delisted at the end of 2005. he continued to play victorian football league vfl football with the northern bullants, carlton vfl-affiliate in 2006, and acted as playing assistant coach in 2007. in 2008, he shifted to the box hill hawks, before retiring from playing at the end of the season. from 2009 until 2013, morrell was the senior coach of the strathmore football club in the essendon district football league, leading the club to the 2011 premier division premiership.from 2014 - 2018 he was the senior coach of the west coburg football club, also in the edfl. in september 2018 he was appointed new coach of the pascoe vale football club. in september 2023 pascoe vale announced that morrell would no longer coach the club and had been replaced by leigh tudor. he currently teaches physical education at the parade college bundoora campus in melbourne.  references external links  digby morrell playing statistics from afl tables  digby morrell at australianfootball.com  digby morrell wafl playing statistics at waflfootyfacts.net\")"
            ]
          },
          "metadata": {},
          "execution_count": 11
        }
      ]
    },
    {
      "cell_type": "code",
      "source": [
        "import wikipediaapi\n",
        "from sklearn.metrics.pairwise import cosine_similarity\n",
        "from sklearn.feature_extraction.text import TfidfVectorizer\n",
        "import matplotlib.pyplot as plt\n",
        "import pandas as pd\n",
        "import numpy as np\n",
        "from textblob import TextBlob"
      ],
      "metadata": {
        "id": "LH1N8qV-I51o"
      },
      "execution_count": 12,
      "outputs": []
    },
    {
      "cell_type": "code",
      "source": [
        "import pandas as pd\n",
        "import wikipedia\n",
        "import nltk\n",
        "from nltk.sentiment import SentimentIntensityAnalyzer\n",
        "from sklearn.feature_extraction.text import TfidfVectorizer\n",
        "from sklearn.metrics.pairwise import cosine_similarity\n",
        "import matplotlib.pyplot as plt\n",
        "\n",
        "# Download VADER if not already done\n",
        "nltk.download('vader_lexicon')\n",
        "\n",
        "# -----------------------\n",
        "# Step 1: Target and top 10 neighbors (from Part 1)\n",
        "target_name = \"Digby Morrell\"\n",
        "top_10_names = [\n",
        "    # Replace these names with the actual names from your Part 1 results\n",
        "  'Steven Browne',\n",
        " 'Peter Freeman (footballer)',\n",
        " 'Lindsay Smith (Australian footballer)',\n",
        " 'Earl Spalding',\n",
        " 'Relton Roberts',\n",
        " 'Mark Austin (footballer)',\n",
        " 'Todd Curley',\n",
        " 'Daniel Harris (footballer)',\n",
        " 'Richard Ambrose',\n",
        " 'Darren Pfeiffer']\n",
        "\n",
        "# -----------------------\n",
        "# Step 2: Download Wikipedia articles\n",
        "def get_wikipedia_page(person_name):\n",
        "    try:\n",
        "        return wikipedia.page(person_name).content\n",
        "    except Exception as e:\n",
        "        print(f\"Could not retrieve page for {person_name}: {e}\")\n",
        "        return \"\"\n",
        "\n",
        "# Get target page\n",
        "target_text = get_wikipedia_page(target_name)\n",
        "\n",
        "# Get neighbor pages\n",
        "neighbor_pages = {}\n",
        "for name in top_10_names:\n",
        "    neighbor_pages[name] = get_wikipedia_page(name)\n",
        "\n",
        "# -----------------------\n",
        "# Step 3: Sentiment of full Wikipedia page (target)\n",
        "sia = SentimentIntensityAnalyzer()\n",
        "compound = sia.polarity_scores(target_text)['compound']\n",
        "sentiment = (\n",
        "    \"Positive\" if compound >= 0.05 else\n",
        "    \"Negative\" if compound <= -0.05 else\n",
        "    \"Neutral\"\n",
        ")\n",
        "print(f\"\\nSentiment of full Wikipedia page for {target_name}: {sentiment} (compound = {compound:.4f})\")\n",
        "\n",
        "# -----------------------\n",
        "# Step 4: Compute similarities using full pages\n",
        "# Combine target with neighbors\n",
        "full_texts = [target_text] + [neighbor_pages[name] for name in top_10_names]\n",
        "names = [target_name] + top_10_names\n",
        "\n",
        "# TF-IDF vectorization\n",
        "vectorizer = TfidfVectorizer(stop_words='english')\n",
        "tfidf_matrix = vectorizer.fit_transform(full_texts)\n",
        "\n",
        "# Cosine similarity from target to all\n",
        "cos_sim = cosine_similarity(tfidf_matrix[0], tfidf_matrix[1:]).flatten()\n",
        "\n",
        "# Create new ranking based on Wikipedia article similarity\n",
        "wiki_rank_df = pd.DataFrame({\n",
        "    'name': top_10_names,\n",
        "    'wiki_similarity': cos_sim\n",
        "}).sort_values(by='wiki_similarity', ascending=False).reset_index(drop=True)\n",
        "wiki_rank_df['wiki_rank'] = wiki_rank_df.index + 1\n",
        "\n",
        "# -----------------------\n",
        "# Step 5: Compare to Part 1 rank\n",
        "# Simulate Part 1 rank for plotting (you'll replace with actual order)\n",
        "part1_rank_df = pd.DataFrame({\n",
        "    'name': top_10_names,\n",
        "    'part1_rank': list(range(1, 11))\n",
        "})\n",
        "\n",
        "# Merge rankings\n",
        "comparison = pd.merge(part1_rank_df, wiki_rank_df, on='name')\n",
        "comparison['rank_diff'] = abs(comparison['part1_rank'] - comparison['wiki_rank'])\n",
        "\n",
        "# Print comparison\n",
        "print(\"\\nComparison of Part 1 vs Wikipedia ranking:\")\n",
        "print(comparison[['name', 'part1_rank', 'wiki_rank', 'rank_diff']])\n",
        "\n",
        "# -----------------------\n",
        "# Step 6: Plot comparison\n",
        "plt.figure(figsize=(10, 6))\n",
        "plt.plot(comparison['part1_rank'], comparison['wiki_rank'], 'bo-')\n",
        "plt.plot([1, 10], [1, 10], 'r--', label='Perfect agreement')\n",
        "plt.xlabel(\"Part 1 Rank (short overview)\")\n",
        "plt.ylabel(\"Wikipedia Rank (full article)\")\n",
        "plt.title(\"Ranking Comparison: Short Text vs Wikipedia Page\")\n",
        "plt.legend()\n",
        "plt.grid(True)\n",
        "plt.show()\n"
      ],
      "metadata": {
        "colab": {
          "base_uri": "https://localhost:8080/",
          "height": 859
        },
        "id": "nDfE-0UUGcj_",
        "outputId": "840e4e9d-3ed2-48dc-86aa-ebc6d814391b"
      },
      "execution_count": 13,
      "outputs": [
        {
          "output_type": "stream",
          "name": "stderr",
          "text": [
            "[nltk_data] Downloading package vader_lexicon to /root/nltk_data...\n",
            "[nltk_data]   Package vader_lexicon is already up-to-date!\n"
          ]
        },
        {
          "output_type": "stream",
          "name": "stdout",
          "text": [
            "\n",
            "Sentiment of full Wikipedia page for Digby Morrell: Positive (compound = 0.8402)\n",
            "\n",
            "Comparison of Part 1 vs Wikipedia ranking:\n",
            "                                    name  part1_rank  wiki_rank  rank_diff\n",
            "0                          Steven Browne           1          2          1\n",
            "1             Peter Freeman (footballer)           2          7          5\n",
            "2  Lindsay Smith (Australian footballer)           3          9          6\n",
            "3                          Earl Spalding           4          3          1\n",
            "4                         Relton Roberts           5          6          1\n",
            "5               Mark Austin (footballer)           6         10          4\n",
            "6                            Todd Curley           7          1          6\n",
            "7             Daniel Harris (footballer)           8          4          4\n",
            "8                        Richard Ambrose           9          8          1\n",
            "9                        Darren Pfeiffer          10          5          5\n"
          ]
        },
        {
          "output_type": "display_data",
          "data": {
            "text/plain": [
              "<Figure size 1000x600 with 1 Axes>"
            ],
            "image/png": "[encoded data removed]"
          },
          "metadata": {}
        }
      ]
    },
    {
      "cell_type": "markdown",
      "metadata": {
        "id": "xEIw9hfFObw7"
      },
      "source": [
        "### Part 3)\n"
      ]
    },
    {
      "cell_type": "markdown",
      "metadata": {
        "id": "SVW0y4Axty7A"
      },
      "source": [
        "Make an interactive notebook where a user can choose or enter a name and the notebook displays the 10 closest individuals.\n",
        "\n",
        "In addition to presenting the project slides, at the end of the presentation each student will demonstrate their code using a famous person suggested by the other students that exists in the DBpedia set.\n"
      ]
    },
    {
      "cell_type": "code",
      "source": [
        "!curl -s https://ddc-datascience.s3.amazonaws.com/Projects/Project.5-NLP/Data/NLP.csv | wc -l"
      ],
      "metadata": {
        "colab": {
          "base_uri": "https://localhost:8080/"
        },
        "id": "t6dopgR3vfDU",
        "outputId": "4ca83b95-026e-44d0-dad5-ef8b55bc2ee6"
      },
      "execution_count": 14,
      "outputs": [
        {
          "output_type": "stream",
          "name": "stdout",
          "text": [
            "42786\n"
          ]
        }
      ]
    },
    {
      "cell_type": "code",
      "source": [
        "!pip install ipywidgets wikipedia"
      ],
      "metadata": {
        "id": "yHBJAbrGviBT",
        "colab": {
          "base_uri": "https://localhost:8080/"
        },
        "collapsed": true,
        "outputId": "64313b50-b936-4e62-bb01-f0d2f6aeab0c"
      },
      "execution_count": 15,
      "outputs": [
        {
          "output_type": "stream",
          "name": "stdout",
          "text": [
            "Requirement already satisfied: ipywidgets in /usr/local/lib/python3.11/dist-packages (7.7.1)\n",
            "Requirement already satisfied: wikipedia in /usr/local/lib/python3.11/dist-packages (1.4.0)\n",
            "Requirement already satisfied: ipykernel>=4.5.1 in /usr/local/lib/python3.11/dist-packages (from ipywidgets) (6.17.1)\n",
            "Requirement already satisfied: ipython-genutils~=0.2.0 in /usr/local/lib/python3.11/dist-packages (from ipywidgets) (0.2.0)\n",
            "Requirement already satisfied: traitlets>=4.3.1 in /usr/local/lib/python3.11/dist-packages (from ipywidgets) (5.7.1)\n",
            "Requirement already satisfied: widgetsnbextension~=3.6.0 in /usr/local/lib/python3.11/dist-packages (from ipywidgets) (3.6.10)\n",
            "Requirement already satisfied: ipython>=4.0.0 in /usr/local/lib/python3.11/dist-packages (from ipywidgets) (7.34.0)\n",
            "Requirement already satisfied: jupyterlab-widgets>=1.0.0 in /usr/local/lib/python3.11/dist-packages (from ipywidgets) (3.0.14)\n",
            "Requirement already satisfied: beautifulsoup4 in /usr/local/lib/python3.11/dist-packages (from wikipedia) (4.13.4)\n",
            "Requirement already satisfied: requests<3.0.0,>=2.0.0 in /usr/local/lib/python3.11/dist-packages (from wikipedia) (2.32.3)\n",
            "Requirement already satisfied: debugpy>=1.0 in /usr/local/lib/python3.11/dist-packages (from ipykernel>=4.5.1->ipywidgets) (1.8.0)\n",
            "Requirement already satisfied: jupyter-client>=6.1.12 in /usr/local/lib/python3.11/dist-packages (from ipykernel>=4.5.1->ipywidgets) (6.1.12)\n",
            "Requirement already satisfied: matplotlib-inline>=0.1 in /usr/local/lib/python3.11/dist-packages (from ipykernel>=4.5.1->ipywidgets) (0.1.7)\n",
            "Requirement already satisfied: nest-asyncio in /usr/local/lib/python3.11/dist-packages (from ipykernel>=4.5.1->ipywidgets) (1.6.0)\n",
            "Requirement already satisfied: packaging in /usr/local/lib/python3.11/dist-packages (from ipykernel>=4.5.1->ipywidgets) (24.2)\n",
            "Requirement already satisfied: psutil in /usr/local/lib/python3.11/dist-packages (from ipykernel>=4.5.1->ipywidgets) (5.9.5)\n",
            "Requirement already satisfied: pyzmq>=17 in /usr/local/lib/python3.11/dist-packages (from ipykernel>=4.5.1->ipywidgets) (24.0.1)\n",
            "Requirement already satisfied: tornado>=6.1 in /usr/local/lib/python3.11/dist-packages (from ipykernel>=4.5.1->ipywidgets) (6.4.2)\n",
            "Requirement already satisfied: setuptools>=18.5 in /usr/local/lib/python3.11/dist-packages (from ipython>=4.0.0->ipywidgets) (75.2.0)\n",
            "Collecting jedi>=0.16 (from ipython>=4.0.0->ipywidgets)\n",
            "  Downloading jedi-0.19.2-py2.py3-none-any.whl.metadata (22 kB)\n",
            "Requirement already satisfied: decorator in /usr/local/lib/python3.11/dist-packages (from ipython>=4.0.0->ipywidgets) (4.4.2)\n",
            "Requirement already satisfied: pickleshare in /usr/local/lib/python3.11/dist-packages (from ipython>=4.0.0->ipywidgets) (0.7.5)\n",
            "Requirement already satisfied: prompt-toolkit!=3.0.0,!=3.0.1,<3.1.0,>=2.0.0 in /usr/local/lib/python3.11/dist-packages (from ipython>=4.0.0->ipywidgets) (3.0.51)\n",
            "Requirement already satisfied: pygments in /usr/local/lib/python3.11/dist-packages (from ipython>=4.0.0->ipywidgets) (2.19.1)\n",
            "Requirement already satisfied: backcall in /usr/local/lib/python3.11/dist-packages (from ipython>=4.0.0->ipywidgets) (0.2.0)\n",
            "Requirement already satisfied: pexpect>4.3 in /usr/local/lib/python3.11/dist-packages (from ipython>=4.0.0->ipywidgets) (4.9.0)\n",
            "Requirement already satisfied: charset-normalizer<4,>=2 in /usr/local/lib/python3.11/dist-packages (from requests<3.0.0,>=2.0.0->wikipedia) (3.4.1)\n",
            "Requirement already satisfied: idna<4,>=2.5 in /usr/local/lib/python3.11/dist-packages (from requests<3.0.0,>=2.0.0->wikipedia) (3.10)\n",
            "Requirement already satisfied: urllib3<3,>=1.21.1 in /usr/local/lib/python3.11/dist-packages (from requests<3.0.0,>=2.0.0->wikipedia) (2.4.0)\n",
            "Requirement already satisfied: certifi>=2017.4.17 in /usr/local/lib/python3.11/dist-packages (from requests<3.0.0,>=2.0.0->wikipedia) (2025.4.26)\n",
            "Requirement already satisfied: notebook>=4.4.1 in /usr/local/lib/python3.11/dist-packages (from widgetsnbextension~=3.6.0->ipywidgets) (6.5.7)\n",
            "Requirement already satisfied: soupsieve>1.2 in /usr/local/lib/python3.11/dist-packages (from beautifulsoup4->wikipedia) (2.7)\n",
            "Requirement already satisfied: typing-extensions>=4.0.0 in /usr/local/lib/python3.11/dist-packages (from beautifulsoup4->wikipedia) (4.13.2)\n",
            "Requirement already satisfied: parso<0.9.0,>=0.8.4 in /usr/local/lib/python3.11/dist-packages (from jedi>=0.16->ipython>=4.0.0->ipywidgets) (0.8.4)\n",
            "Requirement already satisfied: jupyter-core>=4.6.0 in /usr/local/lib/python3.11/dist-packages (from jupyter-client>=6.1.12->ipykernel>=4.5.1->ipywidgets) (5.7.2)\n",
            "Requirement already satisfied: python-dateutil>=2.1 in /usr/local/lib/python3.11/dist-packages (from jupyter-client>=6.1.12->ipykernel>=4.5.1->ipywidgets) (2.9.0.post0)\n",
            "Requirement already satisfied: jinja2 in /usr/local/lib/python3.11/dist-packages (from notebook>=4.4.1->widgetsnbextension~=3.6.0->ipywidgets) (3.1.6)\n",
            "Requirement already satisfied: argon2-cffi in /usr/local/lib/python3.11/dist-packages (from notebook>=4.4.1->widgetsnbextension~=3.6.0->ipywidgets) (23.1.0)\n",
            "Requirement already satisfied: nbformat in /usr/local/lib/python3.11/dist-packages (from notebook>=4.4.1->widgetsnbextension~=3.6.0->ipywidgets) (5.10.4)\n",
            "Requirement already satisfied: nbconvert>=5 in /usr/local/lib/python3.11/dist-packages (from notebook>=4.4.1->widgetsnbextension~=3.6.0->ipywidgets) (7.16.6)\n",
            "Requirement already satisfied: Send2Trash>=1.8.0 in /usr/local/lib/python3.11/dist-packages (from notebook>=4.4.1->widgetsnbextension~=3.6.0->ipywidgets) (1.8.3)\n",
            "Requirement already satisfied: terminado>=0.8.3 in /usr/local/lib/python3.11/dist-packages (from notebook>=4.4.1->widgetsnbextension~=3.6.0->ipywidgets) (0.18.1)\n",
            "Requirement already satisfied: prometheus-client in /usr/local/lib/python3.11/dist-packages (from notebook>=4.4.1->widgetsnbextension~=3.6.0->ipywidgets) (0.21.1)\n",
            "Requirement already satisfied: nbclassic>=0.4.7 in /usr/local/lib/python3.11/dist-packages (from notebook>=4.4.1->widgetsnbextension~=3.6.0->ipywidgets) (1.3.0)\n",
            "Requirement already satisfied: ptyprocess>=0.5 in /usr/local/lib/python3.11/dist-packages (from pexpect>4.3->ipython>=4.0.0->ipywidgets) (0.7.0)\n",
            "Requirement already satisfied: wcwidth in /usr/local/lib/python3.11/dist-packages (from prompt-toolkit!=3.0.0,!=3.0.1,<3.1.0,>=2.0.0->ipython>=4.0.0->ipywidgets) (0.2.13)\n",
            "Requirement already satisfied: platformdirs>=2.5 in /usr/local/lib/python3.11/dist-packages (from jupyter-core>=4.6.0->jupyter-client>=6.1.12->ipykernel>=4.5.1->ipywidgets) (4.3.7)\n",
            "Requirement already satisfied: notebook-shim>=0.2.3 in /usr/local/lib/python3.11/dist-packages (from nbclassic>=0.4.7->notebook>=4.4.1->widgetsnbextension~=3.6.0->ipywidgets) (0.2.4)\n",
            "Requirement already satisfied: bleach!=5.0.0 in /usr/local/lib/python3.11/dist-packages (from bleach[css]!=5.0.0->nbconvert>=5->notebook>=4.4.1->widgetsnbextension~=3.6.0->ipywidgets) (6.2.0)\n",
            "Requirement already satisfied: defusedxml in /usr/local/lib/python3.11/dist-packages (from nbconvert>=5->notebook>=4.4.1->widgetsnbextension~=3.6.0->ipywidgets) (0.7.1)\n",
            "Requirement already satisfied: jupyterlab-pygments in /usr/local/lib/python3.11/dist-packages (from nbconvert>=5->notebook>=4.4.1->widgetsnbextension~=3.6.0->ipywidgets) (0.3.0)\n",
            "Requirement already satisfied: markupsafe>=2.0 in /usr/local/lib/python3.11/dist-packages (from nbconvert>=5->notebook>=4.4.1->widgetsnbextension~=3.6.0->ipywidgets) (3.0.2)\n",
            "Requirement already satisfied: mistune<4,>=2.0.3 in /usr/local/lib/python3.11/dist-packages (from nbconvert>=5->notebook>=4.4.1->widgetsnbextension~=3.6.0->ipywidgets) (3.1.3)\n",
            "Requirement already satisfied: nbclient>=0.5.0 in /usr/local/lib/python3.11/dist-packages (from nbconvert>=5->notebook>=4.4.1->widgetsnbextension~=3.6.0->ipywidgets) (0.10.2)\n",
            "Requirement already satisfied: pandocfilters>=1.4.1 in /usr/local/lib/python3.11/dist-packages (from nbconvert>=5->notebook>=4.4.1->widgetsnbextension~=3.6.0->ipywidgets) (1.5.1)\n",
            "Requirement already satisfied: fastjsonschema>=2.15 in /usr/local/lib/python3.11/dist-packages (from nbformat->notebook>=4.4.1->widgetsnbextension~=3.6.0->ipywidgets) (2.21.1)\n",
            "Requirement already satisfied: jsonschema>=2.6 in /usr/local/lib/python3.11/dist-packages (from nbformat->notebook>=4.4.1->widgetsnbextension~=3.6.0->ipywidgets) (4.23.0)\n",
            "Requirement already satisfied: six>=1.5 in /usr/local/lib/python3.11/dist-packages (from python-dateutil>=2.1->jupyter-client>=6.1.12->ipykernel>=4.5.1->ipywidgets) (1.17.0)\n",
            "Requirement already satisfied: argon2-cffi-bindings in /usr/local/lib/python3.11/dist-packages (from argon2-cffi->notebook>=4.4.1->widgetsnbextension~=3.6.0->ipywidgets) (21.2.0)\n",
            "Requirement already satisfied: webencodings in /usr/local/lib/python3.11/dist-packages (from bleach!=5.0.0->bleach[css]!=5.0.0->nbconvert>=5->notebook>=4.4.1->widgetsnbextension~=3.6.0->ipywidgets) (0.5.1)\n",
            "Requirement already satisfied: tinycss2<1.5,>=1.1.0 in /usr/local/lib/python3.11/dist-packages (from bleach[css]!=5.0.0->nbconvert>=5->notebook>=4.4.1->widgetsnbextension~=3.6.0->ipywidgets) (1.4.0)\n",
            "Requirement already satisfied: attrs>=22.2.0 in /usr/local/lib/python3.11/dist-packages (from jsonschema>=2.6->nbformat->notebook>=4.4.1->widgetsnbextension~=3.6.0->ipywidgets) (25.3.0)\n",
            "Requirement already satisfied: jsonschema-specifications>=2023.03.6 in /usr/local/lib/python3.11/dist-packages (from jsonschema>=2.6->nbformat->notebook>=4.4.1->widgetsnbextension~=3.6.0->ipywidgets) (2025.4.1)\n",
            "Requirement already satisfied: referencing>=0.28.4 in /usr/local/lib/python3.11/dist-packages (from jsonschema>=2.6->nbformat->notebook>=4.4.1->widgetsnbextension~=3.6.0->ipywidgets) (0.36.2)\n",
            "Requirement already satisfied: rpds-py>=0.7.1 in /usr/local/lib/python3.11/dist-packages (from jsonschema>=2.6->nbformat->notebook>=4.4.1->widgetsnbextension~=3.6.0->ipywidgets) (0.24.0)\n",
            "Requirement already satisfied: jupyter-server<3,>=1.8 in /usr/local/lib/python3.11/dist-packages (from notebook-shim>=0.2.3->nbclassic>=0.4.7->notebook>=4.4.1->widgetsnbextension~=3.6.0->ipywidgets) (1.16.0)\n",
            "Requirement already satisfied: cffi>=1.0.1 in /usr/local/lib/python3.11/dist-packages (from argon2-cffi-bindings->argon2-cffi->notebook>=4.4.1->widgetsnbextension~=3.6.0->ipywidgets) (1.17.1)\n",
            "Requirement already satisfied: pycparser in /usr/local/lib/python3.11/dist-packages (from cffi>=1.0.1->argon2-cffi-bindings->argon2-cffi->notebook>=4.4.1->widgetsnbextension~=3.6.0->ipywidgets) (2.22)\n",
            "Requirement already satisfied: anyio>=3.1.0 in /usr/local/lib/python3.11/dist-packages (from jupyter-server<3,>=1.8->notebook-shim>=0.2.3->nbclassic>=0.4.7->notebook>=4.4.1->widgetsnbextension~=3.6.0->ipywidgets) (4.9.0)\n",
            "Requirement already satisfied: websocket-client in /usr/local/lib/python3.11/dist-packages (from jupyter-server<3,>=1.8->notebook-shim>=0.2.3->nbclassic>=0.4.7->notebook>=4.4.1->widgetsnbextension~=3.6.0->ipywidgets) (1.8.0)\n",
            "Requirement already satisfied: sniffio>=1.1 in /usr/local/lib/python3.11/dist-packages (from anyio>=3.1.0->jupyter-server<3,>=1.8->notebook-shim>=0.2.3->nbclassic>=0.4.7->notebook>=4.4.1->widgetsnbextension~=3.6.0->ipywidgets) (1.3.1)\n",
            "Downloading jedi-0.19.2-py2.py3-none-any.whl (1.6 MB)\n",
            "\u001b[2K   \u001b[90m━━━━━━━━━━━━━━━━━━━━━━━━━━━━━━━━━━━━━━━━\u001b[0m \u001b[32m1.6/1.6 MB\u001b[0m \u001b[31m20.4 MB/s\u001b[0m eta \u001b[36m0:00:00\u001b[0m\n",
            "\u001b[?25hInstalling collected packages: jedi\n",
            "Successfully installed jedi-0.19.2\n"
          ]
        }
      ]
    },
    {
      "cell_type": "code",
      "source": [
        "# In Jupyter only; skip this in Colab\n",
        "!jupyter nbextension enable --py widgetsnbextension"
      ],
      "metadata": {
        "colab": {
          "base_uri": "https://localhost:8080/"
        },
        "id": "EI8yIKiDauxv",
        "outputId": "aa1ad01b-b5dd-4fa3-c99d-0cd5d5062d48"
      },
      "execution_count": 16,
      "outputs": [
        {
          "output_type": "stream",
          "name": "stdout",
          "text": [
            "Enabling notebook extension jupyter-js-widgets/extension...\n",
            "Paths used for configuration of notebook: \n",
            "    \t/root/.jupyter/nbconfig/notebook.json\n",
            "Paths used for configuration of notebook: \n",
            "    \t\n",
            "      - Validating: \u001b[32mOK\u001b[0m\n",
            "Paths used for configuration of notebook: \n",
            "    \t/root/.jupyter/nbconfig/notebook.json\n"
          ]
        }
      ]
    },
    {
      "cell_type": "code",
      "source": [
        "import pandas as pd\n",
        "import numpy as np\n",
        "import nltk\n",
        "from nltk.sentiment import SentimentIntensityAnalyzer\n",
        "from sklearn.feature_extraction.text import TfidfVectorizer\n",
        "from sklearn.neighbors import NearestNeighbors\n",
        "import ipywidgets as widgets\n",
        "from IPython.display import display, clear_output\n",
        "import wikipedia\n",
        "\n",
        "# Download VADER lexicon if not already done\n",
        "nltk.download('vader_lexicon')\n",
        "\n",
        "# Load dataset\n",
        "df = pd.read_csv(\"https://ddc-datascience.s3.amazonaws.com/Projects/Project.5-NLP/Data/NLP.csv\")\n",
        "\n",
        "# Use correct columns\n",
        "name_col = 'name'\n",
        "text_col = 'text'\n",
        "\n",
        "# Drop rows with missing text\n",
        "df = df.dropna(subset=[text_col])\n",
        "\n",
        "# TF-IDF model\n",
        "vectorizer = TfidfVectorizer(stop_words='english')\n",
        "tfidf_matrix = vectorizer.fit_transform(df[text_col])\n",
        "\n",
        "# Fit NearestNeighbors\n",
        "knn = NearestNeighbors(n_neighbors=11, metric='cosine')\n",
        "knn.fit(tfidf_matrix)\n",
        "\n",
        "# Sentiment analyzer\n",
        "sia = SentimentIntensityAnalyzer()\n",
        "\n",
        "# Dropdown or text input for selecting person\n",
        "dropdown = widgets.Dropdown(\n",
        "    options=sorted(df[name_col].unique()),\n",
        "    description='Pick a name:',\n",
        "    layout=widgets.Layout(width='50%')\n",
        ")\n",
        "\n",
        "text_input = widgets.Text(\n",
        "    placeholder='Enter a name (optional)',\n",
        "    description='Or type one:',\n",
        "    layout=widgets.Layout(width='50%')\n",
        ")\n",
        "\n",
        "run_button = widgets.Button(description=\"Find Similar People\")\n",
        "\n",
        "output = widgets.Output()\n",
        "\n",
        "def on_run_clicked(b):\n",
        "    with output:\n",
        "        clear_output()\n",
        "\n",
        "        # Choose user input\n",
        "        person_name = text_input.value.strip() if text_input.value.strip() else dropdown.value\n",
        "\n",
        "        if person_name not in df[name_col].values:\n",
        "            print(f\"'{person_name}' not found in dataset.\")\n",
        "            return\n",
        "\n",
        "        # Get index\n",
        "        idx = df[df[name_col] == person_name].index[0]\n",
        "\n",
        "        # Find neighbors\n",
        "        distances, indices = knn.kneighbors(tfidf_matrix[idx])\n",
        "        neighbor_indices = indices[0][1:]\n",
        "        neighbor_distances = distances[0][1:]\n",
        "        similarities = 1 - neighbor_distances\n",
        "\n",
        "        print(f\"\\nTop 10 people most similar to **{person_name}**:\\n\")\n",
        "        for rank, (i, sim) in enumerate(zip(neighbor_indices, similarities), 1):\n",
        "            print(f\"{rank}. {df.iloc[i][name_col]} — Similarity: {sim:.4f}\")\n",
        "\n",
        "        # Sentiment\n",
        "        text = df.iloc[idx][text_col]\n",
        "        compound = sia.polarity_scores(text)['compound']\n",
        "        sentiment = (\n",
        "            \"Positive\" if compound >= 0.05 else\n",
        "            \"Negative\" if compound <= -0.05 else\n",
        "            \"Neutral\"\n",
        "        )\n",
        "        print(f\"\\nSentiment of {person_name}'s overview: {sentiment} (compound = {compound:.4f})\")\n",
        "\n",
        "        # BONUS (Optional): Wikipedia content\n",
        "        try:\n",
        "            wiki_text = wikipedia.page(person_name).content\n",
        "            print(f\"\\n(Wikipedia article for {person_name} loaded successfully — {len(wiki_text)} characters.)\")\n",
        "        except:\n",
        "            print(\"\\nWikipedia article not found or ambiguous.\")\n",
        "\n",
        "run_button.on_click(on_run_clicked)\n",
        "\n",
        "# Layout\n",
        "display(dropdown, text_input, run_button, output)\n"
      ],
      "metadata": {
        "id": "6aHD_9BMapWS"
      },
      "execution_count": null,
      "outputs": []
    }
  ],
  "metadata": {
    "colab": {
      "provenance": [],
      "include_colab_link": true
    },
    "kernelspec": {
      "display_name": "Python 3 (ipykernel)",
      "language": "python",
      "name": "python3"
    },
    "language_info": {
      "codemirror_mode": {
        "name": "ipython",
        "version": 3
      },
      "file_extension": ".py",
      "mimetype": "text/x-python",
      "name": "python",
      "nbconvert_exporter": "python",
      "pygments_lexer": "ipython3",
      "version": "3.10.12"
    }
  },
  "nbformat": 4,
  "nbformat_minor": 0
}