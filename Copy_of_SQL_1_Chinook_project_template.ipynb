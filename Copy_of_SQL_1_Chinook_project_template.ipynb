{
  "nbformat": 4,
  "nbformat_minor": 0,
  "metadata": {
    "colab": {
      "provenance": [],
      "toc_visible": true,
      "include_colab_link": true
    },
    "kernelspec": {
      "name": "python3",
      "display_name": "Python 3"
    },
    "language_info": {
      "name": "python"
    }
  },
  "cells": [
    {
      "cell_type": "markdown",
      "metadata": {
        "id": "view-in-github",
        "colab_type": "text"
      },
      "source": [
        "<a href=\"https://colab.research.google.com/github/oasquared/Hello-world/blob/master/Copy_of_SQL_1_Chinook_project_template.ipynb\" target=\"_parent\"><img src=\"https://colab.research.google.com/assets/colab-badge.svg\" alt=\"Open In Colab\"/></a>"
      ]
    },
    {
      "cell_type": "markdown",
      "source": [
        "# Project SQL - Chinook\n"
      ],
      "metadata": {
        "id": "cJG_e1vK2NMI"
      }
    },
    {
      "cell_type": "markdown",
      "source": [
        "## Chinook data set\n",
        "\n",
        "See the lecture on SQLite3 using the Chinook data set to set up the software, database, and tables, as well as for the links to ancillary information about the data set.\n"
      ],
      "metadata": {
        "id": "s6jMcIbW3P5o"
      }
    },
    {
      "cell_type": "code",
      "source": [
        "# Install the sqlite package for Ubuntu\n",
        "# Download the Chinook sqlite database\n",
        "import sqlite3 as db\n",
        "import pandas as pd\n",
        "import matplotlib.pyplot as plt\n",
        "import seaborn as sns"
      ],
      "metadata": {
        "id": "UhFW0uTR6Jfv"
      },
      "execution_count": 65,
      "outputs": []
    },
    {
      "cell_type": "code",
      "source": [
        "%%capture\n",
        "%%bash\n",
        "apt-get update\n",
        "apt-get install -y sqlite3"
      ],
      "metadata": {
        "id": "AcHVYF5uMJCl"
      },
      "execution_count": 66,
      "outputs": []
    },
    {
      "cell_type": "code",
      "source": [
        "!sqlite3 --version"
      ],
      "metadata": {
        "colab": {
          "base_uri": "https://localhost:8080/"
        },
        "id": "j6GR7gpdR9Je",
        "outputId": "c0f50bed-89ba-43af-e48d-c432e5134a78"
      },
      "execution_count": 67,
      "outputs": [
        {
          "output_type": "stream",
          "name": "stdout",
          "text": [
            "3.37.2 2022-01-06 13:25:41 872ba256cbf61d9290b571c0e6d82a20c224ca3ad82971edc46b29818d5dalt1\n"
          ]
        }
      ]
    },
    {
      "cell_type": "markdown",
      "source": [
        "### Upload Chinook"
      ],
      "metadata": {
        "id": "SmaYLAVXMjG6"
      }
    },
    {
      "cell_type": "code",
      "source": [
        "%%bash\n",
        "[ -f chinook.zip ] ||\n",
        "  curl -s -O https://www.sqlitetutorial.net/wp-content/uploads/2018/03/chinook.zip\n",
        "unzip -l chinook.zip"
      ],
      "metadata": {
        "colab": {
          "base_uri": "https://localhost:8080/"
        },
        "id": "CWKv2ioIMh5h",
        "outputId": "c6741cc9-093c-439b-bd8a-65b433b32ad9"
      },
      "execution_count": 68,
      "outputs": [
        {
          "output_type": "stream",
          "name": "stdout",
          "text": [
            "Archive:  chinook.zip\n",
            "  Length      Date    Time    Name\n",
            "---------  ---------- -----   ----\n",
            "   884736  2015-11-29 10:53   chinook.db\n",
            "---------                     -------\n",
            "   884736                     1 file\n"
          ]
        }
      ]
    },
    {
      "cell_type": "code",
      "source": [
        "!rm -f chinook.db"
      ],
      "metadata": {
        "id": "9OuYfdn1NC5j"
      },
      "execution_count": 69,
      "outputs": []
    },
    {
      "cell_type": "code",
      "source": [
        "!unzip -u chinook.zip"
      ],
      "metadata": {
        "colab": {
          "base_uri": "https://localhost:8080/"
        },
        "id": "c8MEQNh1NIVM",
        "outputId": "a7304e7d-4a45-4e7f-ac47-944737e8b4c0"
      },
      "execution_count": 70,
      "outputs": [
        {
          "output_type": "stream",
          "name": "stdout",
          "text": [
            "Archive:  chinook.zip\n",
            "  inflating: chinook.db              \n"
          ]
        }
      ]
    },
    {
      "cell_type": "code",
      "source": [
        "!ls -la"
      ],
      "metadata": {
        "colab": {
          "base_uri": "https://localhost:8080/"
        },
        "id": "LSh5umhbNQbz",
        "outputId": "881ba559-474e-4cc6-e724-61135058b22d"
      },
      "execution_count": 71,
      "outputs": [
        {
          "output_type": "stream",
          "name": "stdout",
          "text": [
            "total 1180\n",
            "drwxr-xr-x 1 root root   4096 Apr  4 14:18 .\n",
            "drwxr-xr-x 1 root root   4096 Apr  4 10:33 ..\n",
            "-rw-r--r-- 1 root root 884736 Nov 29  2015 chinook.db\n",
            "-rw-r--r-- 1 root root 305596 Apr  4 10:34 chinook.zip\n",
            "drwxr-xr-x 4 root root   4096 Apr  2 13:35 .config\n",
            "drwxr-xr-x 1 root root   4096 Apr  2 13:35 sample_data\n"
          ]
        }
      ]
    },
    {
      "cell_type": "markdown",
      "source": [
        "### Query using SQLite3"
      ],
      "metadata": {
        "id": "0SbZJLj6NlTK"
      }
    },
    {
      "cell_type": "code",
      "source": [
        "# Get a list of the tables in the database\n",
        "%%script sqlite3 --column --header chinook.db\n",
        ".tables"
      ],
      "metadata": {
        "colab": {
          "base_uri": "https://localhost:8080/"
        },
        "id": "uSndUlYtNklf",
        "outputId": "b79533c3-6aa9-43ef-bc52-b3181fb006d4"
      },
      "execution_count": 72,
      "outputs": [
        {
          "output_type": "stream",
          "name": "stdout",
          "text": [
            "albums          employees       invoices        playlists     \n",
            "artists         genres          media_types     tracks        \n",
            "customers       invoice_items   playlist_track\n"
          ]
        }
      ]
    },
    {
      "cell_type": "code",
      "source": [
        "# Show the schema for the entire database\n",
        "%%script sqlite3 --column --header chinook.db\n",
        ".schema"
      ],
      "metadata": {
        "colab": {
          "base_uri": "https://localhost:8080/"
        },
        "collapsed": true,
        "id": "zDIciX8MQFRa",
        "outputId": "f385aa3a-aedd-43cb-ffa0-db5516536e3b"
      },
      "execution_count": 73,
      "outputs": [
        {
          "output_type": "stream",
          "name": "stdout",
          "text": [
            "CREATE TABLE IF NOT EXISTS \"albums\"\r\n",
            "(\r\n",
            "    [AlbumId] INTEGER PRIMARY KEY AUTOINCREMENT NOT NULL,\r\n",
            "    [Title] NVARCHAR(160)  NOT NULL,\r\n",
            "    [ArtistId] INTEGER  NOT NULL,\r\n",
            "    FOREIGN KEY ([ArtistId]) REFERENCES \"artists\" ([ArtistId]) \r\n",
            "\t\tON DELETE NO ACTION ON UPDATE NO ACTION\r\n",
            ");\n",
            "CREATE TABLE sqlite_sequence(name,seq);\n",
            "CREATE TABLE IF NOT EXISTS \"artists\"\r\n",
            "(\r\n",
            "    [ArtistId] INTEGER PRIMARY KEY AUTOINCREMENT NOT NULL,\r\n",
            "    [Name] NVARCHAR(120)\r\n",
            ");\n",
            "CREATE TABLE IF NOT EXISTS \"customers\"\r\n",
            "(\r\n",
            "    [CustomerId] INTEGER PRIMARY KEY AUTOINCREMENT NOT NULL,\r\n",
            "    [FirstName] NVARCHAR(40)  NOT NULL,\r\n",
            "    [LastName] NVARCHAR(20)  NOT NULL,\r\n",
            "    [Company] NVARCHAR(80),\r\n",
            "    [Address] NVARCHAR(70),\r\n",
            "    [City] NVARCHAR(40),\r\n",
            "    [State] NVARCHAR(40),\r\n",
            "    [Country] NVARCHAR(40),\r\n",
            "    [PostalCode] NVARCHAR(10),\r\n",
            "    [Phone] NVARCHAR(24),\r\n",
            "    [Fax] NVARCHAR(24),\r\n",
            "    [Email] NVARCHAR(60)  NOT NULL,\r\n",
            "    [SupportRepId] INTEGER,\r\n",
            "    FOREIGN KEY ([SupportRepId]) REFERENCES \"employees\" ([EmployeeId]) \r\n",
            "\t\tON DELETE NO ACTION ON UPDATE NO ACTION\r\n",
            ");\n",
            "CREATE TABLE IF NOT EXISTS \"employees\"\r\n",
            "(\r\n",
            "    [EmployeeId] INTEGER PRIMARY KEY AUTOINCREMENT NOT NULL,\r\n",
            "    [LastName] NVARCHAR(20)  NOT NULL,\r\n",
            "    [FirstName] NVARCHAR(20)  NOT NULL,\r\n",
            "    [Title] NVARCHAR(30),\r\n",
            "    [ReportsTo] INTEGER,\r\n",
            "    [BirthDate] DATETIME,\r\n",
            "    [HireDate] DATETIME,\r\n",
            "    [Address] NVARCHAR(70),\r\n",
            "    [City] NVARCHAR(40),\r\n",
            "    [State] NVARCHAR(40),\r\n",
            "    [Country] NVARCHAR(40),\r\n",
            "    [PostalCode] NVARCHAR(10),\r\n",
            "    [Phone] NVARCHAR(24),\r\n",
            "    [Fax] NVARCHAR(24),\r\n",
            "    [Email] NVARCHAR(60),\r\n",
            "    FOREIGN KEY ([ReportsTo]) REFERENCES \"employees\" ([EmployeeId]) \r\n",
            "\t\tON DELETE NO ACTION ON UPDATE NO ACTION\r\n",
            ");\n",
            "CREATE TABLE IF NOT EXISTS \"genres\"\r\n",
            "(\r\n",
            "    [GenreId] INTEGER PRIMARY KEY AUTOINCREMENT NOT NULL,\r\n",
            "    [Name] NVARCHAR(120)\r\n",
            ");\n",
            "CREATE TABLE IF NOT EXISTS \"invoices\"\r\n",
            "(\r\n",
            "    [InvoiceId] INTEGER PRIMARY KEY AUTOINCREMENT NOT NULL,\r\n",
            "    [CustomerId] INTEGER  NOT NULL,\r\n",
            "    [InvoiceDate] DATETIME  NOT NULL,\r\n",
            "    [BillingAddress] NVARCHAR(70),\r\n",
            "    [BillingCity] NVARCHAR(40),\r\n",
            "    [BillingState] NVARCHAR(40),\r\n",
            "    [BillingCountry] NVARCHAR(40),\r\n",
            "    [BillingPostalCode] NVARCHAR(10),\r\n",
            "    [Total] NUMERIC(10,2)  NOT NULL,\r\n",
            "    FOREIGN KEY ([CustomerId]) REFERENCES \"customers\" ([CustomerId]) \r\n",
            "\t\tON DELETE NO ACTION ON UPDATE NO ACTION\r\n",
            ");\n",
            "CREATE TABLE IF NOT EXISTS \"invoice_items\"\r\n",
            "(\r\n",
            "    [InvoiceLineId] INTEGER PRIMARY KEY AUTOINCREMENT NOT NULL,\r\n",
            "    [InvoiceId] INTEGER  NOT NULL,\r\n",
            "    [TrackId] INTEGER  NOT NULL,\r\n",
            "    [UnitPrice] NUMERIC(10,2)  NOT NULL,\r\n",
            "    [Quantity] INTEGER  NOT NULL,\r\n",
            "    FOREIGN KEY ([InvoiceId]) REFERENCES \"invoices\" ([InvoiceId]) \r\n",
            "\t\tON DELETE NO ACTION ON UPDATE NO ACTION,\r\n",
            "    FOREIGN KEY ([TrackId]) REFERENCES \"tracks\" ([TrackId]) \r\n",
            "\t\tON DELETE NO ACTION ON UPDATE NO ACTION\r\n",
            ");\n",
            "CREATE TABLE IF NOT EXISTS \"media_types\"\r\n",
            "(\r\n",
            "    [MediaTypeId] INTEGER PRIMARY KEY AUTOINCREMENT NOT NULL,\r\n",
            "    [Name] NVARCHAR(120)\r\n",
            ");\n",
            "CREATE TABLE IF NOT EXISTS \"playlists\"\r\n",
            "(\r\n",
            "    [PlaylistId] INTEGER PRIMARY KEY AUTOINCREMENT NOT NULL,\r\n",
            "    [Name] NVARCHAR(120)\r\n",
            ");\n",
            "CREATE TABLE IF NOT EXISTS \"playlist_track\"\r\n",
            "(\r\n",
            "    [PlaylistId] INTEGER  NOT NULL,\r\n",
            "    [TrackId] INTEGER  NOT NULL,\r\n",
            "    CONSTRAINT [PK_PlaylistTrack] PRIMARY KEY  ([PlaylistId], [TrackId]),\r\n",
            "    FOREIGN KEY ([PlaylistId]) REFERENCES \"playlists\" ([PlaylistId]) \r\n",
            "\t\tON DELETE NO ACTION ON UPDATE NO ACTION,\r\n",
            "    FOREIGN KEY ([TrackId]) REFERENCES \"tracks\" ([TrackId]) \r\n",
            "\t\tON DELETE NO ACTION ON UPDATE NO ACTION\r\n",
            ");\n",
            "CREATE TABLE IF NOT EXISTS \"tracks\"\r\n",
            "(\r\n",
            "    [TrackId] INTEGER PRIMARY KEY AUTOINCREMENT NOT NULL,\r\n",
            "    [Name] NVARCHAR(200)  NOT NULL,\r\n",
            "    [AlbumId] INTEGER,\r\n",
            "    [MediaTypeId] INTEGER  NOT NULL,\r\n",
            "    [GenreId] INTEGER,\r\n",
            "    [Composer] NVARCHAR(220),\r\n",
            "    [Milliseconds] INTEGER  NOT NULL,\r\n",
            "    [Bytes] INTEGER,\r\n",
            "    [UnitPrice] NUMERIC(10,2)  NOT NULL,\r\n",
            "    FOREIGN KEY ([AlbumId]) REFERENCES \"albums\" ([AlbumId]) \r\n",
            "\t\tON DELETE NO ACTION ON UPDATE NO ACTION,\r\n",
            "    FOREIGN KEY ([GenreId]) REFERENCES \"genres\" ([GenreId]) \r\n",
            "\t\tON DELETE NO ACTION ON UPDATE NO ACTION,\r\n",
            "    FOREIGN KEY ([MediaTypeId]) REFERENCES \"media_types\" ([MediaTypeId]) \r\n",
            "\t\tON DELETE NO ACTION ON UPDATE NO ACTION\r\n",
            ");\n",
            "CREATE INDEX [IFK_AlbumArtistId] ON \"albums\" ([ArtistId]);\n",
            "CREATE INDEX [IFK_CustomerSupportRepId] ON \"customers\" ([SupportRepId]);\n",
            "CREATE INDEX [IFK_EmployeeReportsTo] ON \"employees\" ([ReportsTo]);\n",
            "CREATE INDEX [IFK_InvoiceCustomerId] ON \"invoices\" ([CustomerId]);\n",
            "CREATE INDEX [IFK_InvoiceLineInvoiceId] ON \"invoice_items\" ([InvoiceId]);\n",
            "CREATE INDEX [IFK_InvoiceLineTrackId] ON \"invoice_items\" ([TrackId]);\n",
            "CREATE INDEX [IFK_PlaylistTrackTrackId] ON \"playlist_track\" ([TrackId]);\n",
            "CREATE INDEX [IFK_TrackAlbumId] ON \"tracks\" ([AlbumId]);\n",
            "CREATE INDEX [IFK_TrackGenreId] ON \"tracks\" ([GenreId]);\n",
            "CREATE INDEX [IFK_TrackMediaTypeId] ON \"tracks\" ([MediaTypeId]);\n",
            "CREATE TABLE sqlite_stat1(tbl,idx,stat);\n"
          ]
        }
      ]
    },
    {
      "cell_type": "markdown",
      "source": [
        "## Come up with questions about your data\n",
        "Have a look at the Entity-Relation ( ER ) diagram to help come up with questions.\n",
        "\n",
        "* What sort of information is in this dataset?\n",
        "* How many records are there?\n",
        "* How many different countries (states, counties, cities, etc) have records in this data set?\n",
        "\n",
        "\n",
        "If you are stuck, here are some ideas for questions:\n",
        "- https://github.com/LucasMcL/15-sql_queries_02-chinook/blob/master/README.md\n",
        "- [Using the R language]( https://rpubs.com/enext777/636199 )\n",
        "- [Search Google]( https://www.google.com/search?q=chinook+database+questions )\n",
        "\n"
      ],
      "metadata": {
        "id": "OA9Mp38s52x2"
      }
    },
    {
      "cell_type": "markdown",
      "source": [
        "## Use SQL queries to pull specific information\n",
        "\n",
        "Do NOT pull all the data and then filter using DataFrame methods etc. Make sure and use AT LEAST 13 of the 15 SQL options listed below. (You may have to get creative and come up with more questions to ask/answer.)\n"
      ],
      "metadata": {
        "id": "TqvaIfog546s"
      }
    },
    {
      "cell_type": "markdown",
      "source": [
        "### Basic Queries\n"
      ],
      "metadata": {
        "id": "borajWvCtRtl"
      }
    },
    {
      "cell_type": "markdown",
      "source": [
        "#### SELECT (with * and with column names)\n"
      ],
      "metadata": {
        "id": "gIEIK51EthwM"
      }
    },
    {
      "cell_type": "code",
      "source": [
        "# Query all column on customers table with limit\n",
        "%%script sqlite3 --column --header chinook.db\n",
        "select *\n",
        "from customers\n",
        "limit 10"
      ],
      "metadata": {
        "id": "YmICVUnVuBSQ",
        "colab": {
          "base_uri": "https://localhost:8080/"
        },
        "outputId": "094d164b-10b5-4807-93e4-7d355b215006"
      },
      "execution_count": 74,
      "outputs": [
        {
          "output_type": "stream",
          "name": "stdout",
          "text": [
            "CustomerId  FirstName  LastName     Company                                           Address                               City                 State  Country         PostalCode  Phone               Fax                 Email                     SupportRepId\n",
            "----------  ---------  -----------  ------------------------------------------------  ------------------------------------  -------------------  -----  --------------  ----------  ------------------  ------------------  ------------------------  ------------\n",
            "1           Luís       Gonçalves    Embraer - Empresa Brasileira de Aeronáutica S.A.  Av. Brigadeiro Faria Lima, 2170       São José dos Campos  SP     Brazil          12227-000   +55 (12) 3923-5555  +55 (12) 3923-5566  luisg@embraer.com.br      3           \n",
            "2           Leonie     Köhler                                                         Theodor-Heuss-Straße 34               Stuttgart                   Germany         70174       +49 0711 2842222                        leonekohler@surfeu.de     5           \n",
            "3           François   Tremblay                                                       1498 rue Bélanger                     Montréal             QC     Canada          H2G 1A7     +1 (514) 721-4711                       ftremblay@gmail.com       3           \n",
            "4           Bjørn      Hansen                                                         Ullevålsveien 14                      Oslo                        Norway          0171        +47 22 44 22 22                         bjorn.hansen@yahoo.no     4           \n",
            "5           František  Wichterlová  JetBrains s.r.o.                                  Klanova 9/506                         Prague                      Czech Republic  14700       +420 2 4172 5555    +420 2 4172 5555    frantisekw@jetbrains.com  4           \n",
            "6           Helena     Holý                                                           Rilská 3174/6                         Prague                      Czech Republic  14300       +420 2 4177 0449                        hholy@gmail.com           5           \n",
            "7           Astrid     Gruber                                                         Rotenturmstraße 4, 1010 Innere Stadt  Vienne                      Austria         1010        +43 01 5134505                          astrid.gruber@apple.at    5           \n",
            "8           Daan       Peeters                                                        Grétrystraat 63                       Brussels                    Belgium         1000        +32 02 219 03 03                        daan_peeters@apple.be     4           \n",
            "9           Kara       Nielsen                                                        Sønder Boulevard 51                   Copenhagen                  Denmark         1720        +453 3331 9991                          kara.nielsen@jubii.dk     4           \n",
            "10          Eduardo    Martins      Woodstock Discos                                  Rua Dr. Falcão Filho, 155             São Paulo            SP     Brazil          01007-010   +55 (11) 3033-5446  +55 (11) 3033-4564  eduardo@woodstock.com.br  4           \n"
          ]
        }
      ]
    },
    {
      "cell_type": "code",
      "source": [
        "# Query of few column in Customers table\n",
        "%%script sqlite3 --column --header chinook.db\n",
        "select CustomerId,FirstName,LastName,SupportRepId\n",
        "from customers\n",
        "limit 10"
      ],
      "metadata": {
        "id": "8slKgFpsuBCh",
        "colab": {
          "base_uri": "https://localhost:8080/"
        },
        "outputId": "ade26f0a-bf59-48dd-fc5c-03d3362edff2"
      },
      "execution_count": 75,
      "outputs": [
        {
          "output_type": "stream",
          "name": "stdout",
          "text": [
            "CustomerId  FirstName  LastName     SupportRepId\n",
            "----------  ---------  -----------  ------------\n",
            "1           Luís       Gonçalves    3           \n",
            "2           Leonie     Köhler       5           \n",
            "3           François   Tremblay     3           \n",
            "4           Bjørn      Hansen       4           \n",
            "5           František  Wichterlová  4           \n",
            "6           Helena     Holý         5           \n",
            "7           Astrid     Gruber       5           \n",
            "8           Daan       Peeters      4           \n",
            "9           Kara       Nielsen      4           \n",
            "10          Eduardo    Martins      4           \n"
          ]
        }
      ]
    },
    {
      "cell_type": "markdown",
      "source": [
        "#### WHERE\n"
      ],
      "metadata": {
        "id": "dRvXfTGEtkdQ"
      }
    },
    {
      "cell_type": "code",
      "source": [
        "# filter Brazil from country column\n",
        "%%script sqlite3 --column --header chinook.db\n",
        "select CustomerId,FirstName,LastName,SupportRepId,country\n",
        "from customers\n",
        "where country = 'Brazil';"
      ],
      "metadata": {
        "id": "0oNobfUnt_4Z",
        "colab": {
          "base_uri": "https://localhost:8080/"
        },
        "outputId": "ae6c2d20-452e-4675-eb8f-c4e492563def"
      },
      "execution_count": 76,
      "outputs": [
        {
          "output_type": "stream",
          "name": "stdout",
          "text": [
            "CustomerId  FirstName  LastName   SupportRepId  Country\n",
            "----------  ---------  ---------  ------------  -------\n",
            "1           Luís       Gonçalves  3             Brazil \n",
            "10          Eduardo    Martins    4             Brazil \n",
            "11          Alexandre  Rocha      5             Brazil \n",
            "12          Roberto    Almeida    3             Brazil \n",
            "13          Fernanda   Ramos      4             Brazil \n"
          ]
        }
      ]
    },
    {
      "cell_type": "markdown",
      "source": [
        "#### AND\n"
      ],
      "metadata": {
        "id": "u5y_3d4GtlqN"
      }
    },
    {
      "cell_type": "code",
      "source": [
        "#Provide a query showing the Invoices of customers who are from Brazil. The resultant table should show the customer's full name, Invoice ID, Date of the invoice and billing country.\n",
        "%%script sqlite3 --column --header chinook.db\n",
        "select c.firstname, c.lastname, i.invoiceid, i.invoicedate, i.billingcountry\n",
        "from customers as c, invoices as i\n",
        "where c.country = 'Brazil' and\n",
        "c.customerid = i.customerid;"
      ],
      "metadata": {
        "id": "H1tgAAFtt_Yy",
        "colab": {
          "base_uri": "https://localhost:8080/"
        },
        "outputId": "e7e359b9-427b-407c-c568-e99a847b9ee4"
      },
      "execution_count": 77,
      "outputs": [
        {
          "output_type": "stream",
          "name": "stdout",
          "text": [
            "FirstName  LastName   InvoiceId  InvoiceDate          BillingCountry\n",
            "---------  ---------  ---------  -------------------  --------------\n",
            "Luís       Gonçalves  98         2010-03-11 00:00:00  Brazil        \n",
            "Luís       Gonçalves  121        2010-06-13 00:00:00  Brazil        \n",
            "Luís       Gonçalves  143        2010-09-15 00:00:00  Brazil        \n",
            "Luís       Gonçalves  195        2011-05-06 00:00:00  Brazil        \n",
            "Luís       Gonçalves  316        2012-10-27 00:00:00  Brazil        \n",
            "Luís       Gonçalves  327        2012-12-07 00:00:00  Brazil        \n",
            "Luís       Gonçalves  382        2013-08-07 00:00:00  Brazil        \n",
            "Eduardo    Martins    25         2009-04-09 00:00:00  Brazil        \n",
            "Eduardo    Martins    154        2010-11-14 00:00:00  Brazil        \n",
            "Eduardo    Martins    177        2011-02-16 00:00:00  Brazil        \n",
            "Eduardo    Martins    199        2011-05-21 00:00:00  Brazil        \n",
            "Eduardo    Martins    251        2012-01-09 00:00:00  Brazil        \n",
            "Eduardo    Martins    372        2013-07-02 00:00:00  Brazil        \n",
            "Eduardo    Martins    383        2013-08-12 00:00:00  Brazil        \n",
            "Alexandre  Rocha      57         2009-09-06 00:00:00  Brazil        \n",
            "Alexandre  Rocha      68         2009-10-17 00:00:00  Brazil        \n",
            "Alexandre  Rocha      123        2010-06-17 00:00:00  Brazil        \n",
            "Alexandre  Rocha      252        2012-01-22 00:00:00  Brazil        \n",
            "Alexandre  Rocha      275        2012-04-25 00:00:00  Brazil        \n",
            "Alexandre  Rocha      297        2012-07-28 00:00:00  Brazil        \n",
            "Alexandre  Rocha      349        2013-03-18 00:00:00  Brazil        \n",
            "Roberto    Almeida    34         2009-05-23 00:00:00  Brazil        \n",
            "Roberto    Almeida    155        2010-11-14 00:00:00  Brazil        \n",
            "Roberto    Almeida    166        2010-12-25 00:00:00  Brazil        \n",
            "Roberto    Almeida    221        2011-08-25 00:00:00  Brazil        \n",
            "Roberto    Almeida    350        2013-03-31 00:00:00  Brazil        \n",
            "Roberto    Almeida    373        2013-07-03 00:00:00  Brazil        \n",
            "Roberto    Almeida    395        2013-10-05 00:00:00  Brazil        \n",
            "Fernanda   Ramos      35         2009-06-05 00:00:00  Brazil        \n",
            "Fernanda   Ramos      58         2009-09-07 00:00:00  Brazil        \n",
            "Fernanda   Ramos      80         2009-12-10 00:00:00  Brazil        \n",
            "Fernanda   Ramos      132        2010-07-31 00:00:00  Brazil        \n",
            "Fernanda   Ramos      253        2012-01-22 00:00:00  Brazil        \n",
            "Fernanda   Ramos      264        2012-03-03 00:00:00  Brazil        \n",
            "Fernanda   Ramos      319        2012-11-01 00:00:00  Brazil        \n"
          ]
        }
      ]
    },
    {
      "cell_type": "markdown",
      "source": [
        "#### OR\n"
      ],
      "metadata": {
        "id": "fddyzEAetnzB"
      }
    },
    {
      "cell_type": "code",
      "source": [
        "%%script sqlite3 --column --header chinook.db\n",
        "select * from employees\n",
        "where title = 'Sales Support Agent' or ReportsTo=\"6\";\n"
      ],
      "metadata": {
        "id": "HAg8LDQ3t-yr",
        "colab": {
          "base_uri": "https://localhost:8080/"
        },
        "outputId": "89417a9e-586d-4f56-ce53-a41cd78cf161"
      },
      "execution_count": 78,
      "outputs": [
        {
          "output_type": "stream",
          "name": "stdout",
          "text": [
            "EmployeeId  LastName  FirstName  Title                ReportsTo  BirthDate            HireDate             Address                      City        State  Country  PostalCode  Phone              Fax                Email                   \n",
            "----------  --------  ---------  -------------------  ---------  -------------------  -------------------  ---------------------------  ----------  -----  -------  ----------  -----------------  -----------------  ------------------------\n",
            "3           Peacock   Jane       Sales Support Agent  2          1973-08-29 00:00:00  2002-04-01 00:00:00  1111 6 Ave SW                Calgary     AB     Canada   T2P 5M5     +1 (403) 262-3443  +1 (403) 262-6712  jane@chinookcorp.com    \n",
            "4           Park      Margaret   Sales Support Agent  2          1947-09-19 00:00:00  2003-05-03 00:00:00  683 10 Street SW             Calgary     AB     Canada   T2P 5G3     +1 (403) 263-4423  +1 (403) 263-4289  margaret@chinookcorp.com\n",
            "5           Johnson   Steve      Sales Support Agent  2          1965-03-03 00:00:00  2003-10-17 00:00:00  7727B 41 Ave                 Calgary     AB     Canada   T3B 1Y7     1 (780) 836-9987   1 (780) 836-9543   steve@chinookcorp.com   \n",
            "7           King      Robert     IT Staff             6          1970-05-29 00:00:00  2004-01-02 00:00:00  590 Columbia Boulevard West  Lethbridge  AB     Canada   T1K 5N8     +1 (403) 456-9986  +1 (403) 456-8485  robert@chinookcorp.com  \n",
            "8           Callahan  Laura      IT Staff             6          1968-01-09 00:00:00  2004-03-04 00:00:00  923 7 ST NW                  Lethbridge  AB     Canada   T1H 1Y8     +1 (403) 467-3351  +1 (403) 467-8772  laura@chinookcorp.com   \n"
          ]
        }
      ]
    },
    {
      "cell_type": "markdown",
      "source": [
        "#### LIKE (with % or _ wildcard)\n"
      ],
      "metadata": {
        "id": "-csoeatGtpRq"
      }
    },
    {
      "cell_type": "code",
      "source": [
        "%%script sqlite3 --column --header chinook.db\n",
        "\n",
        "select * from employees\n",
        "where LastName like '%son';\n"
      ],
      "metadata": {
        "id": "UB3EyaRRt9ki",
        "colab": {
          "base_uri": "https://localhost:8080/"
        },
        "collapsed": true,
        "outputId": "0a689a6c-2007-4965-b30b-3e486ae657c1"
      },
      "execution_count": 79,
      "outputs": [
        {
          "output_type": "stream",
          "name": "stdout",
          "text": [
            "EmployeeId  LastName  FirstName  Title                ReportsTo  BirthDate            HireDate             Address       City     State  Country  PostalCode  Phone             Fax               Email                \n",
            "----------  --------  ---------  -------------------  ---------  -------------------  -------------------  ------------  -------  -----  -------  ----------  ----------------  ----------------  ---------------------\n",
            "5           Johnson   Steve      Sales Support Agent  2          1965-03-03 00:00:00  2003-10-17 00:00:00  7727B 41 Ave  Calgary  AB     Canada   T3B 1Y7     1 (780) 836-9987  1 (780) 836-9543  steve@chinookcorp.com\n"
          ]
        }
      ]
    },
    {
      "cell_type": "markdown",
      "source": [
        "#### BETWEEN\n"
      ],
      "metadata": {
        "id": "BV8kQ-9FtqGY"
      }
    },
    {
      "cell_type": "code",
      "source": [
        "#How many Invoices were there in 2009 and 2011? What are the respective total sales for each of those years?\n",
        "%%script sqlite3 --column --header chinook.db\n",
        "select count(i.invoiceid), sum(i.total)\n",
        "from invoices as i\n",
        "where i.invoicedate between datetime('2011-01-01 00:00:00') and datetime('2011-12-31 00:00:00');\n",
        "\n",
        "select count(i.invoiceid), sum(i.total)\n",
        "from invoices as i\n",
        "where i.invoicedate between datetime('2009-01-01 00:00:00') and datetime('2009-12-31 00:00:00');"
      ],
      "metadata": {
        "id": "AAMkUyW6t9IR",
        "colab": {
          "base_uri": "https://localhost:8080/"
        },
        "outputId": "a7a5d2a3-46ea-4bd5-d64f-8ea0c42fcd42"
      },
      "execution_count": 80,
      "outputs": [
        {
          "output_type": "stream",
          "name": "stdout",
          "text": [
            "count(i.invoiceid)  sum(i.total)\n",
            "------------------  ------------\n",
            "83                  469.58      \n",
            "count(i.invoiceid)  sum(i.total)\n",
            "------------------  ------------\n",
            "83                  449.46      \n"
          ]
        }
      ]
    },
    {
      "cell_type": "markdown",
      "source": [
        "#### LIMIT\n",
        "\n"
      ],
      "metadata": {
        "id": "3BqrCUPBtqpX"
      }
    },
    {
      "cell_type": "code",
      "source": [
        "%%script sqlite3 --column --header chinook.db\n",
        "select *\n",
        "from Invoices as i\n",
        "limit 20"
      ],
      "metadata": {
        "colab": {
          "base_uri": "https://localhost:8080/"
        },
        "id": "3bVNMNDLZ0ls",
        "outputId": "52bdb55f-6296-46ba-84fe-d95bacceb418"
      },
      "execution_count": 81,
      "outputs": [
        {
          "output_type": "stream",
          "name": "stdout",
          "text": [
            "InvoiceId  CustomerId  InvoiceDate          BillingAddress             BillingCity    BillingState  BillingCountry  BillingPostalCode  Total\n",
            "---------  ----------  -------------------  -------------------------  -------------  ------------  --------------  -----------------  -----\n",
            "1          2           2009-01-01 00:00:00  Theodor-Heuss-Straße 34    Stuttgart                    Germany         70174              1.98 \n",
            "2          4           2009-01-02 00:00:00  Ullevålsveien 14           Oslo                         Norway          0171               3.96 \n",
            "3          8           2009-01-03 00:00:00  Grétrystraat 63            Brussels                     Belgium         1000               5.94 \n",
            "4          14          2009-01-06 00:00:00  8210 111 ST NW             Edmonton       AB            Canada          T6G 2C7            8.91 \n",
            "5          23          2009-01-11 00:00:00  69 Salem Street            Boston         MA            USA             2113               13.86\n",
            "6          37          2009-01-19 00:00:00  Berger Straße 10           Frankfurt                    Germany         60316              0.99 \n",
            "7          38          2009-02-01 00:00:00  Barbarossastraße 19        Berlin                       Germany         10779              1.98 \n",
            "8          40          2009-02-01 00:00:00  8, Rue Hanovre             Paris                        France          75002              1.98 \n",
            "9          42          2009-02-02 00:00:00  9, Place Louis Barthou     Bordeaux                     France          33000              3.96 \n",
            "10         46          2009-02-03 00:00:00  3 Chatham Street           Dublin         Dublin        Ireland                            5.94 \n",
            "11         52          2009-02-06 00:00:00  202 Hoxton Street          London                       United Kingdom  N1 5LH             8.91 \n",
            "12         2           2009-02-11 00:00:00  Theodor-Heuss-Straße 34    Stuttgart                    Germany         70174              13.86\n",
            "13         16          2009-02-19 00:00:00  1600 Amphitheatre Parkway  Mountain View  CA            USA             94043-1351         0.99 \n",
            "14         17          2009-03-04 00:00:00  1 Microsoft Way            Redmond        WA            USA             98052-8300         1.98 \n",
            "15         19          2009-03-04 00:00:00  1 Infinite Loop            Cupertino      CA            USA             95014              1.98 \n",
            "16         21          2009-03-05 00:00:00  801 W 4th Street           Reno           NV            USA             89503              3.96 \n",
            "17         25          2009-03-06 00:00:00  319 N. Frances Street      Madison        WI            USA             53703              5.94 \n",
            "18         31          2009-03-09 00:00:00  194A Chain Lake Drive      Halifax        NS            Canada          B3S 1C5            8.91 \n",
            "19         40          2009-03-14 00:00:00  8, Rue Hanovre             Paris                        France          75002              13.86\n",
            "20         54          2009-03-22 00:00:00  110 Raeburn Pl             Edinburgh                    United Kingdom  EH4 1HH            0.99 \n"
          ]
        }
      ]
    },
    {
      "cell_type": "markdown",
      "source": [
        "### Sorting and Grouping\n"
      ],
      "metadata": {
        "id": "a4DtPW7ytrU7"
      }
    },
    {
      "cell_type": "markdown",
      "source": [
        "#### ORDER BY\n"
      ],
      "metadata": {
        "id": "SneUyw4Xtr-U"
      }
    },
    {
      "cell_type": "code",
      "source": [
        "#Provide a query that shows the invoices associated with each sales agent. The resultant table should include the Sales Agent's full name.\n",
        "%%script sqlite3 --column --header chinook.db\n",
        "select e.firstname, e.lastname, i.invoiceid, i.customerid, i.invoicedate, i.billingaddress, i.billingcountry, i.billingpostalcode, i.total\n",
        "from customers as c, Invoices as i\n",
        "on c.customerid = i.customerid\n",
        "join employees as e\n",
        "on e.employeeid = c.supportrepid\n",
        "order by e.employeeid DESC\n",
        "limit 20;\n"
      ],
      "metadata": {
        "id": "29jQ-pBFt7uf",
        "colab": {
          "base_uri": "https://localhost:8080/"
        },
        "outputId": "cf5e058e-62d9-4c8a-bfab-4a0951d37e4b"
      },
      "execution_count": 82,
      "outputs": [
        {
          "output_type": "stream",
          "name": "stdout",
          "text": [
            "FirstName  LastName  InvoiceId  CustomerId  InvoiceDate          BillingAddress                        BillingCountry  BillingPostalCode  Total\n",
            "---------  --------  ---------  ----------  -------------------  ------------------------------------  --------------  -----------------  -----\n",
            "Steve      Johnson   1          2           2009-01-01 00:00:00  Theodor-Heuss-Straße 34               Germany         70174              1.98 \n",
            "Steve      Johnson   12         2           2009-02-11 00:00:00  Theodor-Heuss-Straße 34               Germany         70174              13.86\n",
            "Steve      Johnson   67         2           2009-10-12 00:00:00  Theodor-Heuss-Straße 34               Germany         70174              8.91 \n",
            "Steve      Johnson   196        2           2011-05-19 00:00:00  Theodor-Heuss-Straße 34               Germany         70174              1.98 \n",
            "Steve      Johnson   219        2           2011-08-21 00:00:00  Theodor-Heuss-Straße 34               Germany         70174              3.96 \n",
            "Steve      Johnson   241        2           2011-11-23 00:00:00  Theodor-Heuss-Straße 34               Germany         70174              5.94 \n",
            "Steve      Johnson   293        2           2012-07-13 00:00:00  Theodor-Heuss-Straße 34               Germany         70174              0.99 \n",
            "Steve      Johnson   46         6           2009-07-11 00:00:00  Rilská 3174/6                         Czech Republic  14300              8.91 \n",
            "Steve      Johnson   175        6           2011-02-15 00:00:00  Rilská 3174/6                         Czech Republic  14300              1.98 \n",
            "Steve      Johnson   198        6           2011-05-20 00:00:00  Rilská 3174/6                         Czech Republic  14300              3.96 \n",
            "Steve      Johnson   220        6           2011-08-22 00:00:00  Rilská 3174/6                         Czech Republic  14300              5.94 \n",
            "Steve      Johnson   272        6           2012-04-11 00:00:00  Rilská 3174/6                         Czech Republic  14300              0.99 \n",
            "Steve      Johnson   393        6           2013-10-03 00:00:00  Rilská 3174/6                         Czech Republic  14300              1.98 \n",
            "Steve      Johnson   404        6           2013-11-13 00:00:00  Rilská 3174/6                         Czech Republic  14300              25.86\n",
            "Steve      Johnson   78         7           2009-12-08 00:00:00  Rotenturmstraße 4, 1010 Innere Stadt  Austria         1010               1.98 \n",
            "Steve      Johnson   89         7           2010-01-18 00:00:00  Rotenturmstraße 4, 1010 Innere Stadt  Austria         1010               18.86\n",
            "Steve      Johnson   144        7           2010-09-18 00:00:00  Rotenturmstraße 4, 1010 Innere Stadt  Austria         1010               8.91 \n",
            "Steve      Johnson   273        7           2012-04-24 00:00:00  Rotenturmstraße 4, 1010 Innere Stadt  Austria         1010               1.98 \n",
            "Steve      Johnson   296        7           2012-07-27 00:00:00  Rotenturmstraße 4, 1010 Innere Stadt  Austria         1010               3.96 \n",
            "Steve      Johnson   318        7           2012-10-29 00:00:00  Rotenturmstraße 4, 1010 Innere Stadt  Austria         1010               5.94 \n"
          ]
        }
      ]
    },
    {
      "cell_type": "markdown",
      "source": [
        "#### DISTINCT\n"
      ],
      "metadata": {
        "id": "Y22yRW5Wtsl1"
      }
    },
    {
      "cell_type": "code",
      "source": [
        "# query of title of the employee\n",
        "%%script sqlite3 --column --header chinook.db\n",
        "SELECT DISTINCT Title\n",
        "FROM employees;"
      ],
      "metadata": {
        "id": "RGkf7Qh1t7Cm",
        "colab": {
          "base_uri": "https://localhost:8080/"
        },
        "outputId": "f4f91557-4d55-4c08-ee2e-2f0923341a44"
      },
      "execution_count": 83,
      "outputs": [
        {
          "output_type": "stream",
          "name": "stdout",
          "text": [
            "Title              \n",
            "-------------------\n",
            "General Manager    \n",
            "Sales Manager      \n",
            "Sales Support Agent\n",
            "IT Manager         \n",
            "IT Staff           \n"
          ]
        }
      ]
    },
    {
      "cell_type": "markdown",
      "source": [
        "#### GROUP BY\n",
        "\n"
      ],
      "metadata": {
        "id": "Q0mwAOgettPz"
      }
    },
    {
      "cell_type": "code",
      "source": [
        "# Provide a query that shows the # of invoices per country.\n",
        "%%script sqlite3 --column --header chinook.db\n",
        "select billingcountry, count(billingcountry) as '# of invoices'\n",
        "from Invoices\n",
        "group by billingcountry"
      ],
      "metadata": {
        "id": "8cv2_l-Lt6Wv",
        "colab": {
          "base_uri": "https://localhost:8080/"
        },
        "outputId": "fb5538b8-ecd9-4cbc-fa5a-461881fdee6f"
      },
      "execution_count": 84,
      "outputs": [
        {
          "output_type": "stream",
          "name": "stdout",
          "text": [
            "BillingCountry  # of invoices\n",
            "--------------  -------------\n",
            "Argentina       7            \n",
            "Australia       7            \n",
            "Austria         7            \n",
            "Belgium         7            \n",
            "Brazil          35           \n",
            "Canada          56           \n",
            "Chile           7            \n",
            "Czech Republic  14           \n",
            "Denmark         7            \n",
            "Finland         7            \n",
            "France          35           \n",
            "Germany         28           \n",
            "Hungary         7            \n",
            "India           13           \n",
            "Ireland         7            \n",
            "Italy           7            \n",
            "Netherlands     7            \n",
            "Norway          7            \n",
            "Poland          7            \n",
            "Portugal        14           \n",
            "Spain           7            \n",
            "Sweden          7            \n",
            "USA             91           \n",
            "United Kingdom  21           \n"
          ]
        }
      ]
    },
    {
      "cell_type": "markdown",
      "source": [
        "### Aggregates\n"
      ],
      "metadata": {
        "id": "dJUO6Dh3tt5c"
      }
    },
    {
      "cell_type": "markdown",
      "source": [
        "#### MAX\n"
      ],
      "metadata": {
        "id": "spacz18MtvBo"
      }
    },
    {
      "cell_type": "code",
      "source": [
        "# Which sales agent made the most in sales over all?\n",
        "%%script sqlite3 --column --header chinook.db\n",
        "select *, max(total) from\n",
        "(select e.*, sum(total) as 'Total'\n",
        "from employees as e\n",
        "\tjoin customers as c on e.employeeid = c.supportrepid\n",
        "\tjoin invoices as i on i.customerid = c.customerid\n",
        "group by e.employeeid)"
      ],
      "metadata": {
        "id": "e8Ke_lJKt2VQ",
        "colab": {
          "base_uri": "https://localhost:8080/"
        },
        "outputId": "aa1cedef-bc16-4989-980e-f9459c55297a"
      },
      "execution_count": 85,
      "outputs": [
        {
          "output_type": "stream",
          "name": "stdout",
          "text": [
            "EmployeeId  LastName  FirstName  Title                ReportsTo  BirthDate            HireDate             Address        City     State  Country  PostalCode  Phone              Fax                Email                 Total             max(total)      \n",
            "----------  --------  ---------  -------------------  ---------  -------------------  -------------------  -------------  -------  -----  -------  ----------  -----------------  -----------------  --------------------  ----------------  ----------------\n",
            "3           Peacock   Jane       Sales Support Agent  2          1973-08-29 00:00:00  2002-04-01 00:00:00  1111 6 Ave SW  Calgary  AB     Canada   T2P 5M5     +1 (403) 262-3443  +1 (403) 262-6712  jane@chinookcorp.com  833.040000000001  833.040000000001\n"
          ]
        }
      ]
    },
    {
      "cell_type": "markdown",
      "source": [
        "#### MIN\n"
      ],
      "metadata": {
        "id": "V0z33BTztvoP"
      }
    },
    {
      "cell_type": "code",
      "source": [
        "# Which sales agent made the least in sales over all?\n",
        "%%script sqlite3 --column --header chinook.db\n",
        "select *, MIN(total) from\n",
        "(select e.*, sum(total) as 'Total'\n",
        "from employees as e\n",
        "\tjoin customers as c on e.employeeid = c.supportrepid\n",
        "\tjoin invoices as i on i.customerid = c.customerid\n",
        "group by e.employeeid)"
      ],
      "metadata": {
        "id": "ishdZ9K3t1fh",
        "colab": {
          "base_uri": "https://localhost:8080/"
        },
        "outputId": "c1dc986a-49cc-4af8-b722-712593bd0d28"
      },
      "execution_count": 86,
      "outputs": [
        {
          "output_type": "stream",
          "name": "stdout",
          "text": [
            "EmployeeId  LastName  FirstName  Title                ReportsTo  BirthDate            HireDate             Address       City     State  Country  PostalCode  Phone             Fax               Email                  Total             MIN(total)      \n",
            "----------  --------  ---------  -------------------  ---------  -------------------  -------------------  ------------  -------  -----  -------  ----------  ----------------  ----------------  ---------------------  ----------------  ----------------\n",
            "5           Johnson   Steve      Sales Support Agent  2          1965-03-03 00:00:00  2003-10-17 00:00:00  7727B 41 Ave  Calgary  AB     Canada   T3B 1Y7     1 (780) 836-9987  1 (780) 836-9543  steve@chinookcorp.com  720.160000000001  720.160000000001\n"
          ]
        }
      ]
    },
    {
      "cell_type": "markdown",
      "source": [
        "#### SUM\n"
      ],
      "metadata": {
        "id": "nLYsB9M8twMf"
      }
    },
    {
      "cell_type": "code",
      "source": [
        "# Provide a query that shows the total sales per country. Which country's customers spent the most?\n",
        "%%script sqlite3 --column --header chinook.db\n",
        "select i.billingcountry, sum(total) as 'TotalSales'\n",
        "from invoices as i\n",
        "group by billingcountry\n",
        "order by totalsales desc"
      ],
      "metadata": {
        "id": "aoVDwom0t0zN",
        "colab": {
          "base_uri": "https://localhost:8080/"
        },
        "outputId": "5965588e-d2ba-421f-bc4c-71320be02426"
      },
      "execution_count": 87,
      "outputs": [
        {
          "output_type": "stream",
          "name": "stdout",
          "text": [
            "BillingCountry  TotalSales\n",
            "--------------  ----------\n",
            "USA             523.06    \n",
            "Canada          303.96    \n",
            "France          195.1     \n",
            "Brazil          190.1     \n",
            "Germany         156.48    \n",
            "United Kingdom  112.86    \n",
            "Czech Republic  90.24     \n",
            "Portugal        77.24     \n",
            "India           75.26     \n",
            "Chile           46.62     \n",
            "Ireland         45.62     \n",
            "Hungary         45.62     \n",
            "Austria         42.62     \n",
            "Finland         41.62     \n",
            "Netherlands     40.62     \n",
            "Norway          39.62     \n",
            "Sweden          38.62     \n",
            "Poland          37.62     \n",
            "Italy           37.62     \n",
            "Denmark         37.62     \n",
            "Australia       37.62     \n",
            "Argentina       37.62     \n",
            "Spain           37.62     \n",
            "Belgium         37.62     \n"
          ]
        }
      ]
    },
    {
      "cell_type": "markdown",
      "source": [
        "#### AVG\n"
      ],
      "metadata": {
        "id": "0yI5K0Z5twwB"
      }
    },
    {
      "cell_type": "code",
      "source": [
        "# Provide a query that shows AVG total sales made by each sales agent.\n",
        "%%script sqlite3 --column --header chinook.db\n",
        "select e.*, AVG(i.total) as 'Avg_Total Sales'\n",
        "from employees as e\n",
        "\tjoin customers as c on e.employeeid = c.supportrepid\n",
        "\tjoin invoices as i on i.customerid = c.customerid\n",
        "group by e.employeeid\n"
      ],
      "metadata": {
        "id": "HkNbzJ4mtzgD",
        "colab": {
          "base_uri": "https://localhost:8080/"
        },
        "outputId": "ac48890e-5e6a-43d1-e6d2-4a53df27a309"
      },
      "execution_count": 88,
      "outputs": [
        {
          "output_type": "stream",
          "name": "stdout",
          "text": [
            "EmployeeId  LastName  FirstName  Title                ReportsTo  BirthDate            HireDate             Address           City     State  Country  PostalCode  Phone              Fax                Email                     Avg_Total Sales \n",
            "----------  --------  ---------  -------------------  ---------  -------------------  -------------------  ----------------  -------  -----  -------  ----------  -----------------  -----------------  ------------------------  ----------------\n",
            "3           Peacock   Jane       Sales Support Agent  2          1973-08-29 00:00:00  2002-04-01 00:00:00  1111 6 Ave SW     Calgary  AB     Canada   T2P 5M5     +1 (403) 262-3443  +1 (403) 262-6712  jane@chinookcorp.com      5.70575342465754\n",
            "4           Park      Margaret   Sales Support Agent  2          1947-09-19 00:00:00  2003-05-03 00:00:00  683 10 Street SW  Calgary  AB     Canada   T2P 5G3     +1 (403) 263-4423  +1 (403) 263-4289  margaret@chinookcorp.com  5.53857142857144\n",
            "5           Johnson   Steve      Sales Support Agent  2          1965-03-03 00:00:00  2003-10-17 00:00:00  7727B 41 Ave      Calgary  AB     Canada   T3B 1Y7     1 (780) 836-9987   1 (780) 836-9543   steve@chinookcorp.com     5.71555555555556\n"
          ]
        }
      ]
    },
    {
      "cell_type": "markdown",
      "source": [
        "#### COUNT\n",
        "\n"
      ],
      "metadata": {
        "id": "JEkDbYyutxX5"
      }
    },
    {
      "cell_type": "code",
      "source": [
        "# Looking at the Invoice_items table, provide a query that COUNTs the number of line items for Invoice ID 37.\n",
        "%%script sqlite3 --column --header chinook.db\n",
        "select count(i.invoicelineid)\n",
        "from invoice_items as i\n",
        "where i.invoiceid = 37"
      ],
      "metadata": {
        "id": "NMrvo0jE6LL9",
        "colab": {
          "base_uri": "https://localhost:8080/"
        },
        "outputId": "f6913e14-3f57-47e1-bffb-8eb5d698d894"
      },
      "execution_count": 89,
      "outputs": [
        {
          "output_type": "stream",
          "name": "stdout",
          "text": [
            "count(i.invoicelineid)\n",
            "----------------------\n",
            "4                     \n"
          ]
        }
      ]
    },
    {
      "cell_type": "markdown",
      "source": [
        "## Make some plots\n",
        "\n",
        "Make some cool plots to go with your data. Write SQL queries to get ONLY the information you need for each plot. (Don't pull ALL the data and then just plot a few columns.)\n",
        "\n"
      ],
      "metadata": {
        "id": "ntL8dHJT57K8"
      }
    },
    {
      "cell_type": "code",
      "source": [
        "import sqlite3\n",
        "conn = sqlite3.connect(\"chinook.db\")\n"
      ],
      "metadata": {
        "id": "UGphnF3v7Ouh"
      },
      "execution_count": 90,
      "outputs": []
    },
    {
      "cell_type": "code",
      "source": [
        "query = '''\n",
        "SELECT i.BillingCountry, SUM(i.Total) AS TotalSales\n",
        "FROM invoices AS i\n",
        "GROUP BY i.BillingCountry\n",
        "ORDER BY TotalSales DESC\n",
        "'''\n",
        "\n",
        "# Run the query and load into DataFrame\n",
        "df = pd.read_sql(query, conn)\n",
        "\n",
        "# Plot\n",
        "plt.figure(figsize=(12,6))\n",
        "sns.barplot(data=df, x='BillingCountry', y='TotalSales', palette='coolwarm')\n",
        "plt.xticks(rotation=45)\n",
        "plt.title(\"Total Sales by Billing Country\")\n",
        "plt.ylabel(\"Total Sales ($)\")\n",
        "plt.xlabel(\"Country\")\n",
        "plt.tight_layout()\n",
        "plt.show()\n"
      ],
      "metadata": {
        "id": "SZXIuqBX6L50",
        "colab": {
          "base_uri": "https://localhost:8080/",
          "height": 549
        },
        "outputId": "ecc16a8d-d91c-48d8-a14b-78b966543d8d"
      },
      "execution_count": 91,
      "outputs": [
        {
          "output_type": "stream",
          "name": "stderr",
          "text": [
            "<ipython-input-91-ca2fa45ebe8b>:13: FutureWarning: \n",
            "\n",
            "Passing `palette` without assigning `hue` is deprecated and will be removed in v0.14.0. Assign the `x` variable to `hue` and set `legend=False` for the same effect.\n",
            "\n",
            "  sns.barplot(data=df, x='BillingCountry', y='TotalSales', palette='coolwarm')\n"
          ]
        },
        {
          "output_type": "display_data",
          "data": {
            "text/plain": [
              "<Figure size 1200x600 with 1 Axes>"
            ],
            "image/png": "[encoded data removed]"
          },
          "metadata": {}
        }
      ]
    },
    {
      "cell_type": "markdown",
      "source": [
        "## EXTRA CREDIT:\n",
        "* Use a CTE\n",
        "* Use a query that joins two or more tables.\n",
        "* Make a model to see if you can predict something\n",
        "* Come up with something else cool to do with your data\n"
      ],
      "metadata": {
        "id": "H6QrBn3n58mU"
      }
    },
    {
      "cell_type": "code",
      "source": [
        "%%script sqlite3 --column --header chinook.db\n",
        "WITH CustomerTotals AS (\n",
        "    SELECT c.CustomerId, c.FirstName || ' ' || c.LastName AS FullName,\n",
        "           SUM(i.Total) AS TotalSpent\n",
        "    FROM customers c\n",
        "    JOIN invoices i ON c.CustomerId = i.CustomerId\n",
        "    GROUP BY c.CustomerId\n",
        ")\n",
        "SELECT * FROM CustomerTotals\n",
        "ORDER BY TotalSpent DESC\n",
        "LIMIT 10;"
      ],
      "metadata": {
        "id": "rEZQv6vn59IP",
        "colab": {
          "base_uri": "https://localhost:8080/"
        },
        "outputId": "b6e7a015-08f1-4c81-c6a5-d8d0e91c2c33"
      },
      "execution_count": 92,
      "outputs": [
        {
          "output_type": "stream",
          "name": "stdout",
          "text": [
            "CustomerId  FullName            TotalSpent\n",
            "----------  ------------------  ----------\n",
            "6           Helena Holý         49.62     \n",
            "26          Richard Cunningham  47.62     \n",
            "57          Luis Rojas          46.62     \n",
            "45          Ladislav Kovács     45.62     \n",
            "46          Hugh O'Reilly       45.62     \n",
            "28          Julia Barnett       43.62     \n",
            "24          Frank Ralston       43.62     \n",
            "37          Fynn Zimmermann     43.62     \n",
            "7           Astrid Gruber       42.62     \n",
            "25          Victor Stevens      42.62     \n"
          ]
        }
      ]
    },
    {
      "cell_type": "markdown",
      "source": [
        "### Model to prediction"
      ],
      "metadata": {
        "id": "YtO_AGmFANCP"
      }
    },
    {
      "cell_type": "code",
      "source": [
        "import sqlite3\n",
        "import pandas as pd\n",
        "\n",
        "# Connect to chinook.db\n",
        "conn = sqlite3.connect(\"chinook.db\")\n",
        "\n",
        "# Get customer spending and demographics\n",
        "query = '''\n",
        "WITH CustomerTotals AS (\n",
        "    SELECT c.CustomerId, c.FirstName || ' ' || c.LastName AS FullName,\n",
        "           c.Country, c.SupportRepId,\n",
        "           SUM(i.Total) AS TotalSpent\n",
        "    FROM customers c\n",
        "    JOIN invoices i ON c.CustomerId = i.CustomerId\n",
        "    GROUP BY c.CustomerId\n",
        ")\n",
        "SELECT * FROM CustomerTotals;\n",
        "'''\n",
        "\n",
        "df = pd.read_sql(query, conn)\n"
      ],
      "metadata": {
        "id": "0mK80hOK_xUz"
      },
      "execution_count": 93,
      "outputs": []
    },
    {
      "cell_type": "markdown",
      "source": [
        "#### Pull and prepare the data"
      ],
      "metadata": {
        "id": "a4Bzxg5jAXV0"
      }
    },
    {
      "cell_type": "code",
      "source": [
        "# Create a binary target variable: High spender or not\n",
        "df['HighSpender'] = (df['TotalSpent'] > df['TotalSpent'].median()).astype(int)\n",
        "\n",
        "# Encode categorical variables\n",
        "df_encoded = pd.get_dummies(df[['Country', 'SupportRepId']], drop_first=True)\n",
        "\n",
        "# Combine with target\n",
        "X = df_encoded\n",
        "y = df['HighSpender']\n"
      ],
      "metadata": {
        "id": "APYiXYr7_2XU"
      },
      "execution_count": 94,
      "outputs": []
    },
    {
      "cell_type": "code",
      "source": [
        "from sklearn.model_selection import train_test_split\n",
        "from sklearn.ensemble import RandomForestClassifier\n",
        "from sklearn.metrics import classification_report\n",
        "\n",
        "X_train, X_test, y_train, y_test = train_test_split(X, y, test_size=0.3, random_state=42)\n",
        "\n",
        "clf = RandomForestClassifier(random_state=42)\n",
        "clf.fit(X_train, y_train)\n",
        "\n",
        "# Predict\n",
        "y_pred = clf.predict(X_test)\n",
        "\n",
        "# Report\n",
        "print(classification_report(y_test, y_pred))\n"
      ],
      "metadata": {
        "colab": {
          "base_uri": "https://localhost:8080/"
        },
        "id": "eDuwRyH6_6jK",
        "outputId": "9feaeeb0-5702-4f4f-d1f8-0a3ab2ca72e9"
      },
      "execution_count": 95,
      "outputs": [
        {
          "output_type": "stream",
          "name": "stdout",
          "text": [
            "              precision    recall  f1-score   support\n",
            "\n",
            "           0       0.38      0.75      0.50         8\n",
            "           1       0.00      0.00      0.00        10\n",
            "\n",
            "    accuracy                           0.33        18\n",
            "   macro avg       0.19      0.38      0.25        18\n",
            "weighted avg       0.17      0.33      0.22        18\n",
            "\n"
          ]
        }
      ]
    }
  ]
}